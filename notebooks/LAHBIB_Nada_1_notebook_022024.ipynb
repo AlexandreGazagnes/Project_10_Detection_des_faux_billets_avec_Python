{
 "cells": [
  {
   "cell_type": "markdown",
   "id": "56ddb36a",
   "metadata": {},
   "source": [
    "# Détection des faux billets avec Python"
   ]
  },
  {
   "cell_type": "markdown",
   "id": "af22a378",
   "metadata": {},
   "source": [
    "## 1. Preliminary"
   ]
  },
  {
   "cell_type": "markdown",
   "id": "a6dbce98",
   "metadata": {},
   "source": [
    "Contexte : \n",
    "\n",
    "* Identification des contrefaçons des billets en euros\n",
    "* Les billets d'euro ont des valeurs nominales de 5, 10, 20, 50, 100, 200 et 500 euros. "
   ]
  },
  {
   "cell_type": "markdown",
   "id": "3d8419f9",
   "metadata": {},
   "source": [
    "# 1.2 Importation"
   ]
  },
  {
   "cell_type": "markdown",
   "id": "5601866a",
   "metadata": {},
   "source": [
    "## 1.2.1 Importation des librairies"
   ]
  },
  {
   "cell_type": "code",
   "execution_count": 1,
   "id": "0c8ad7fa",
   "metadata": {},
   "outputs": [],
   "source": [
    "#builtin\n",
    "import os"
   ]
  },
  {
   "cell_type": "code",
   "execution_count": 2,
   "id": "7f6e4e9e",
   "metadata": {},
   "outputs": [],
   "source": [
    "#data\n",
    "import pandas as pd\n",
    "import numpy as np"
   ]
  },
  {
   "cell_type": "code",
   "execution_count": 3,
   "id": "7ee5f8bc",
   "metadata": {},
   "outputs": [],
   "source": [
    "\n",
    "#visualisation \n",
    "import matplotlib.pyplot as plt\n",
    "import seaborn as sns\n",
    "import plotly.express as px\n",
    "%matplotlib inline"
   ]
  },
  {
   "cell_type": "code",
   "execution_count": 4,
   "id": "20adb496",
   "metadata": {},
   "outputs": [],
   "source": [
    "#stat\n",
    "import scipy.stats as stats\n",
    "from statsmodels.stats.diagnostic import het_breuschpagan\n",
    "from statsmodels.stats.outliers_influence import variance_inflation_factor"
   ]
  },
  {
   "cell_type": "code",
   "execution_count": 5,
   "id": "8175f558",
   "metadata": {},
   "outputs": [],
   "source": [
    "#machine learning\n",
    "from sklearn.linear_model import LinearRegression\n",
    "import statsmodels.api as sm\n",
    "from sklearn.linear_model import LogisticRegression\n",
    "from sklearn.dummy import DummyClassifier\n",
    "from sklearn.dummy import DummyRegressor\n",
    "from sklearn.metrics import ConfusionMatrixDisplay, confusion_matrix\n",
    "from sklearn.metrics import mean_squared_error\n",
    "from sklearn.model_selection import cross_val_score\n",
    "from sklearn import svm\n",
    "from sklearn.svm import SVC\n",
    "from sklearn.svm import LinearSVC\n",
    "from sklearn.model_selection import LearningCurveDisplay, ShuffleSplit\n",
    "from sklearn.model_selection import train_test_split\n",
    "from sklearn.preprocessing import StandardScaler\n",
    "from sklearn.decomposition import PCA\n",
    "from sklearn.model_selection import GridSearchCV\n",
    "from sklearn.metrics import precision_score, make_scorer"
   ]
  },
  {
   "cell_type": "markdown",
   "id": "4ad0f362",
   "metadata": {},
   "source": [
    "## 2.1 chargement des fichiers"
   ]
  },
  {
   "cell_type": "code",
   "execution_count": 6,
   "id": "d53e5a32",
   "metadata": {},
   "outputs": [],
   "source": [
    "input_folder = \"../data/source/\"\n",
    "# Read CSV train data file into DataFrame\n",
    "train_df= pd.read_csv(os.path.join(input_folder, \"billets.csv\"), dtype=float, sep=';')\n",
    "# Read CSV test data file into DataFrame\n",
    "test_df = pd.read_csv(os.path.join(input_folder, \"billets_production.csv\"), sep=',')"
   ]
  },
  {
   "cell_type": "markdown",
   "id": "eefccca5",
   "metadata": {},
   "source": [
    "## 2. Prétraitement des données"
   ]
  },
  {
   "cell_type": "markdown",
   "id": "42f349d6",
   "metadata": {},
   "source": [
    "## 2.2 Exploration"
   ]
  },
  {
   "cell_type": "code",
   "execution_count": 7,
   "id": "6f07befc",
   "metadata": {},
   "outputs": [
    {
     "data": {
      "text/html": [
       "<div>\n",
       "<style scoped>\n",
       "    .dataframe tbody tr th:only-of-type {\n",
       "        vertical-align: middle;\n",
       "    }\n",
       "\n",
       "    .dataframe tbody tr th {\n",
       "        vertical-align: top;\n",
       "    }\n",
       "\n",
       "    .dataframe thead th {\n",
       "        text-align: right;\n",
       "    }\n",
       "</style>\n",
       "<table border=\"1\" class=\"dataframe\">\n",
       "  <thead>\n",
       "    <tr style=\"text-align: right;\">\n",
       "      <th></th>\n",
       "      <th>is_genuine</th>\n",
       "      <th>diagonal</th>\n",
       "      <th>height_left</th>\n",
       "      <th>height_right</th>\n",
       "      <th>margin_low</th>\n",
       "      <th>margin_up</th>\n",
       "      <th>length</th>\n",
       "    </tr>\n",
       "  </thead>\n",
       "  <tbody>\n",
       "    <tr>\n",
       "      <th>0</th>\n",
       "      <td>1.0</td>\n",
       "      <td>171.81</td>\n",
       "      <td>104.86</td>\n",
       "      <td>104.95</td>\n",
       "      <td>4.52</td>\n",
       "      <td>2.89</td>\n",
       "      <td>112.83</td>\n",
       "    </tr>\n",
       "    <tr>\n",
       "      <th>1</th>\n",
       "      <td>1.0</td>\n",
       "      <td>171.46</td>\n",
       "      <td>103.36</td>\n",
       "      <td>103.66</td>\n",
       "      <td>3.77</td>\n",
       "      <td>2.99</td>\n",
       "      <td>113.09</td>\n",
       "    </tr>\n",
       "    <tr>\n",
       "      <th>2</th>\n",
       "      <td>1.0</td>\n",
       "      <td>172.69</td>\n",
       "      <td>104.48</td>\n",
       "      <td>103.50</td>\n",
       "      <td>4.40</td>\n",
       "      <td>2.94</td>\n",
       "      <td>113.16</td>\n",
       "    </tr>\n",
       "    <tr>\n",
       "      <th>3</th>\n",
       "      <td>1.0</td>\n",
       "      <td>171.36</td>\n",
       "      <td>103.91</td>\n",
       "      <td>103.94</td>\n",
       "      <td>3.62</td>\n",
       "      <td>3.01</td>\n",
       "      <td>113.51</td>\n",
       "    </tr>\n",
       "    <tr>\n",
       "      <th>4</th>\n",
       "      <td>1.0</td>\n",
       "      <td>171.73</td>\n",
       "      <td>104.28</td>\n",
       "      <td>103.46</td>\n",
       "      <td>4.04</td>\n",
       "      <td>3.48</td>\n",
       "      <td>112.54</td>\n",
       "    </tr>\n",
       "  </tbody>\n",
       "</table>\n",
       "</div>"
      ],
      "text/plain": [
       "   is_genuine  diagonal  height_left  height_right  margin_low  margin_up  \\\n",
       "0         1.0    171.81       104.86        104.95        4.52       2.89   \n",
       "1         1.0    171.46       103.36        103.66        3.77       2.99   \n",
       "2         1.0    172.69       104.48        103.50        4.40       2.94   \n",
       "3         1.0    171.36       103.91        103.94        3.62       3.01   \n",
       "4         1.0    171.73       104.28        103.46        4.04       3.48   \n",
       "\n",
       "   length  \n",
       "0  112.83  \n",
       "1  113.09  \n",
       "2  113.16  \n",
       "3  113.51  \n",
       "4  112.54  "
      ]
     },
     "execution_count": 7,
     "metadata": {},
     "output_type": "execute_result"
    }
   ],
   "source": [
    "#Affichage des 5 premieres lignes\n",
    "train_df.head()"
   ]
  },
  {
   "cell_type": "code",
   "execution_count": 8,
   "id": "7b02a9df",
   "metadata": {},
   "outputs": [
    {
     "name": "stdout",
     "output_type": "stream",
     "text": [
      "Le nombre des itemes dans le DataFrame train_df est 1500.\n"
     ]
    }
   ],
   "source": [
    "print('Le nombre des itemes dans le DataFrame train_df est {}.'.format(train_df.shape[0]))"
   ]
  },
  {
   "cell_type": "code",
   "execution_count": 9,
   "id": "ccaf5862",
   "metadata": {},
   "outputs": [
    {
     "data": {
      "text/html": [
       "<div>\n",
       "<style scoped>\n",
       "    .dataframe tbody tr th:only-of-type {\n",
       "        vertical-align: middle;\n",
       "    }\n",
       "\n",
       "    .dataframe tbody tr th {\n",
       "        vertical-align: top;\n",
       "    }\n",
       "\n",
       "    .dataframe thead th {\n",
       "        text-align: right;\n",
       "    }\n",
       "</style>\n",
       "<table border=\"1\" class=\"dataframe\">\n",
       "  <thead>\n",
       "    <tr style=\"text-align: right;\">\n",
       "      <th></th>\n",
       "      <th>diagonal</th>\n",
       "      <th>height_left</th>\n",
       "      <th>height_right</th>\n",
       "      <th>margin_low</th>\n",
       "      <th>margin_up</th>\n",
       "      <th>length</th>\n",
       "      <th>id</th>\n",
       "    </tr>\n",
       "  </thead>\n",
       "  <tbody>\n",
       "    <tr>\n",
       "      <th>0</th>\n",
       "      <td>171.76</td>\n",
       "      <td>104.01</td>\n",
       "      <td>103.54</td>\n",
       "      <td>5.21</td>\n",
       "      <td>3.30</td>\n",
       "      <td>111.42</td>\n",
       "      <td>A_1</td>\n",
       "    </tr>\n",
       "    <tr>\n",
       "      <th>1</th>\n",
       "      <td>171.87</td>\n",
       "      <td>104.17</td>\n",
       "      <td>104.13</td>\n",
       "      <td>6.00</td>\n",
       "      <td>3.31</td>\n",
       "      <td>112.09</td>\n",
       "      <td>A_2</td>\n",
       "    </tr>\n",
       "    <tr>\n",
       "      <th>2</th>\n",
       "      <td>172.00</td>\n",
       "      <td>104.58</td>\n",
       "      <td>104.29</td>\n",
       "      <td>4.99</td>\n",
       "      <td>3.39</td>\n",
       "      <td>111.57</td>\n",
       "      <td>A_3</td>\n",
       "    </tr>\n",
       "    <tr>\n",
       "      <th>3</th>\n",
       "      <td>172.49</td>\n",
       "      <td>104.55</td>\n",
       "      <td>104.34</td>\n",
       "      <td>4.44</td>\n",
       "      <td>3.03</td>\n",
       "      <td>113.20</td>\n",
       "      <td>A_4</td>\n",
       "    </tr>\n",
       "    <tr>\n",
       "      <th>4</th>\n",
       "      <td>171.65</td>\n",
       "      <td>103.63</td>\n",
       "      <td>103.56</td>\n",
       "      <td>3.77</td>\n",
       "      <td>3.16</td>\n",
       "      <td>113.33</td>\n",
       "      <td>A_5</td>\n",
       "    </tr>\n",
       "  </tbody>\n",
       "</table>\n",
       "</div>"
      ],
      "text/plain": [
       "   diagonal  height_left  height_right  margin_low  margin_up  length   id\n",
       "0    171.76       104.01        103.54        5.21       3.30  111.42  A_1\n",
       "1    171.87       104.17        104.13        6.00       3.31  112.09  A_2\n",
       "2    172.00       104.58        104.29        4.99       3.39  111.57  A_3\n",
       "3    172.49       104.55        104.34        4.44       3.03  113.20  A_4\n",
       "4    171.65       103.63        103.56        3.77       3.16  113.33  A_5"
      ]
     },
     "execution_count": 9,
     "metadata": {},
     "output_type": "execute_result"
    }
   ],
   "source": [
    "# preview test data\n",
    "test_df"
   ]
  },
  {
   "cell_type": "markdown",
   "id": "a995c5c5",
   "metadata": {},
   "source": [
    "test DataFrame contient 5 lignes sans valeurs manquantes."
   ]
  },
  {
   "cell_type": "code",
   "execution_count": 10,
   "id": "e333b864",
   "metadata": {},
   "outputs": [
    {
     "name": "stdout",
     "output_type": "stream",
     "text": [
      "Le nombre des itemes dans le DataFrame train_df est 5.\n"
     ]
    }
   ],
   "source": [
    "print('Le nombre des itemes dans le DataFrame train_df est {}.'.format(test_df.shape[0]))"
   ]
  },
  {
   "cell_type": "markdown",
   "id": "fd17c28d",
   "metadata": {},
   "source": [
    "Note: On ne voit pas la colonne 'is_genuine' (la target) dans le dataset test_df. Notre objectif est alors de prédire la target par differentes algorithmes de machine learning comme la regression logistique."
   ]
  },
  {
   "cell_type": "markdown",
   "id": "90fccada",
   "metadata": {},
   "source": [
    "### Transform is_geniune into is_fake (revserse 0 and 1)"
   ]
  },
  {
   "cell_type": "code",
   "execution_count": 11,
   "id": "6d542ba6",
   "metadata": {},
   "outputs": [],
   "source": [
    "train_df['is_fake'] = 1 - train_df['is_genuine']\n",
    "train_df['is_fake'].astype(int)\n",
    "train_df.drop(columns=['is_genuine'], inplace=True)"
   ]
  },
  {
   "cell_type": "code",
   "execution_count": 12,
   "id": "d8fad873",
   "metadata": {},
   "outputs": [
    {
     "data": {
      "text/html": [
       "<div>\n",
       "<style scoped>\n",
       "    .dataframe tbody tr th:only-of-type {\n",
       "        vertical-align: middle;\n",
       "    }\n",
       "\n",
       "    .dataframe tbody tr th {\n",
       "        vertical-align: top;\n",
       "    }\n",
       "\n",
       "    .dataframe thead th {\n",
       "        text-align: right;\n",
       "    }\n",
       "</style>\n",
       "<table border=\"1\" class=\"dataframe\">\n",
       "  <thead>\n",
       "    <tr style=\"text-align: right;\">\n",
       "      <th></th>\n",
       "      <th>diagonal</th>\n",
       "      <th>height_left</th>\n",
       "      <th>height_right</th>\n",
       "      <th>margin_low</th>\n",
       "      <th>margin_up</th>\n",
       "      <th>length</th>\n",
       "      <th>is_fake</th>\n",
       "    </tr>\n",
       "  </thead>\n",
       "  <tbody>\n",
       "    <tr>\n",
       "      <th>1495</th>\n",
       "      <td>171.75</td>\n",
       "      <td>104.38</td>\n",
       "      <td>104.17</td>\n",
       "      <td>4.42</td>\n",
       "      <td>3.09</td>\n",
       "      <td>111.28</td>\n",
       "      <td>1.0</td>\n",
       "    </tr>\n",
       "    <tr>\n",
       "      <th>1496</th>\n",
       "      <td>172.19</td>\n",
       "      <td>104.63</td>\n",
       "      <td>104.44</td>\n",
       "      <td>5.27</td>\n",
       "      <td>3.37</td>\n",
       "      <td>110.97</td>\n",
       "      <td>1.0</td>\n",
       "    </tr>\n",
       "    <tr>\n",
       "      <th>1497</th>\n",
       "      <td>171.80</td>\n",
       "      <td>104.01</td>\n",
       "      <td>104.12</td>\n",
       "      <td>5.51</td>\n",
       "      <td>3.36</td>\n",
       "      <td>111.95</td>\n",
       "      <td>1.0</td>\n",
       "    </tr>\n",
       "    <tr>\n",
       "      <th>1498</th>\n",
       "      <td>172.06</td>\n",
       "      <td>104.28</td>\n",
       "      <td>104.06</td>\n",
       "      <td>5.17</td>\n",
       "      <td>3.46</td>\n",
       "      <td>112.25</td>\n",
       "      <td>1.0</td>\n",
       "    </tr>\n",
       "    <tr>\n",
       "      <th>1499</th>\n",
       "      <td>171.47</td>\n",
       "      <td>104.15</td>\n",
       "      <td>103.82</td>\n",
       "      <td>4.63</td>\n",
       "      <td>3.37</td>\n",
       "      <td>112.07</td>\n",
       "      <td>1.0</td>\n",
       "    </tr>\n",
       "  </tbody>\n",
       "</table>\n",
       "</div>"
      ],
      "text/plain": [
       "      diagonal  height_left  height_right  margin_low  margin_up  length  \\\n",
       "1495    171.75       104.38        104.17        4.42       3.09  111.28   \n",
       "1496    172.19       104.63        104.44        5.27       3.37  110.97   \n",
       "1497    171.80       104.01        104.12        5.51       3.36  111.95   \n",
       "1498    172.06       104.28        104.06        5.17       3.46  112.25   \n",
       "1499    171.47       104.15        103.82        4.63       3.37  112.07   \n",
       "\n",
       "      is_fake  \n",
       "1495      1.0  \n",
       "1496      1.0  \n",
       "1497      1.0  \n",
       "1498      1.0  \n",
       "1499      1.0  "
      ]
     },
     "execution_count": 12,
     "metadata": {},
     "output_type": "execute_result"
    }
   ],
   "source": [
    "#Affichage des 5 dernieres lignes\n",
    "train_df.tail()"
   ]
  },
  {
   "cell_type": "code",
   "execution_count": 13,
   "id": "d345ff61",
   "metadata": {
    "scrolled": true
   },
   "outputs": [
    {
     "data": {
      "text/html": [
       "<div>\n",
       "<style scoped>\n",
       "    .dataframe tbody tr th:only-of-type {\n",
       "        vertical-align: middle;\n",
       "    }\n",
       "\n",
       "    .dataframe tbody tr th {\n",
       "        vertical-align: top;\n",
       "    }\n",
       "\n",
       "    .dataframe thead th {\n",
       "        text-align: right;\n",
       "    }\n",
       "</style>\n",
       "<table border=\"1\" class=\"dataframe\">\n",
       "  <thead>\n",
       "    <tr style=\"text-align: right;\">\n",
       "      <th></th>\n",
       "      <th>diagonal</th>\n",
       "      <th>height_left</th>\n",
       "      <th>height_right</th>\n",
       "      <th>margin_low</th>\n",
       "      <th>margin_up</th>\n",
       "      <th>length</th>\n",
       "      <th>is_fake</th>\n",
       "    </tr>\n",
       "  </thead>\n",
       "  <tbody>\n",
       "    <tr>\n",
       "      <th>821</th>\n",
       "      <td>172.29</td>\n",
       "      <td>104.04</td>\n",
       "      <td>103.94</td>\n",
       "      <td>3.81</td>\n",
       "      <td>3.00</td>\n",
       "      <td>113.60</td>\n",
       "      <td>0.0</td>\n",
       "    </tr>\n",
       "    <tr>\n",
       "      <th>621</th>\n",
       "      <td>171.99</td>\n",
       "      <td>103.69</td>\n",
       "      <td>103.51</td>\n",
       "      <td>3.90</td>\n",
       "      <td>3.02</td>\n",
       "      <td>113.04</td>\n",
       "      <td>0.0</td>\n",
       "    </tr>\n",
       "    <tr>\n",
       "      <th>1467</th>\n",
       "      <td>171.16</td>\n",
       "      <td>103.80</td>\n",
       "      <td>103.93</td>\n",
       "      <td>4.95</td>\n",
       "      <td>3.36</td>\n",
       "      <td>112.29</td>\n",
       "      <td>1.0</td>\n",
       "    </tr>\n",
       "    <tr>\n",
       "      <th>320</th>\n",
       "      <td>172.07</td>\n",
       "      <td>104.35</td>\n",
       "      <td>104.43</td>\n",
       "      <td>4.10</td>\n",
       "      <td>3.02</td>\n",
       "      <td>112.76</td>\n",
       "      <td>0.0</td>\n",
       "    </tr>\n",
       "    <tr>\n",
       "      <th>964</th>\n",
       "      <td>171.84</td>\n",
       "      <td>103.72</td>\n",
       "      <td>103.57</td>\n",
       "      <td>4.33</td>\n",
       "      <td>2.83</td>\n",
       "      <td>113.31</td>\n",
       "      <td>0.0</td>\n",
       "    </tr>\n",
       "  </tbody>\n",
       "</table>\n",
       "</div>"
      ],
      "text/plain": [
       "      diagonal  height_left  height_right  margin_low  margin_up  length  \\\n",
       "821     172.29       104.04        103.94        3.81       3.00  113.60   \n",
       "621     171.99       103.69        103.51        3.90       3.02  113.04   \n",
       "1467    171.16       103.80        103.93        4.95       3.36  112.29   \n",
       "320     172.07       104.35        104.43        4.10       3.02  112.76   \n",
       "964     171.84       103.72        103.57        4.33       2.83  113.31   \n",
       "\n",
       "      is_fake  \n",
       "821       0.0  \n",
       "621       0.0  \n",
       "1467      1.0  \n",
       "320       0.0  \n",
       "964       0.0  "
      ]
     },
     "execution_count": 13,
     "metadata": {},
     "output_type": "execute_result"
    }
   ],
   "source": [
    "#Affichage de 5 lignes arbitrairement\n",
    "train_df.sample(5)"
   ]
  },
  {
   "cell_type": "code",
   "execution_count": 14,
   "id": "82c6ccf8",
   "metadata": {},
   "outputs": [
    {
     "data": {
      "text/plain": [
       "(1500, 7)"
      ]
     },
     "execution_count": 14,
     "metadata": {},
     "output_type": "execute_result"
    }
   ],
   "source": [
    "#Dimensions du DataFrame\n",
    "train_df.shape"
   ]
  },
  {
   "cell_type": "code",
   "execution_count": 15,
   "id": "5a225f21",
   "metadata": {
    "scrolled": true
   },
   "outputs": [
    {
     "data": {
      "text/plain": [
       "diagonal        float64\n",
       "height_left     float64\n",
       "height_right    float64\n",
       "margin_low      float64\n",
       "margin_up       float64\n",
       "length          float64\n",
       "is_fake         float64\n",
       "dtype: object"
      ]
     },
     "execution_count": 15,
     "metadata": {},
     "output_type": "execute_result"
    }
   ],
   "source": [
    "#Information sur les colonnes\n",
    "train_df.dtypes"
   ]
  },
  {
   "cell_type": "code",
   "execution_count": 16,
   "id": "c9bf851b",
   "metadata": {},
   "outputs": [
    {
     "data": {
      "text/html": [
       "<div>\n",
       "<style scoped>\n",
       "    .dataframe tbody tr th:only-of-type {\n",
       "        vertical-align: middle;\n",
       "    }\n",
       "\n",
       "    .dataframe tbody tr th {\n",
       "        vertical-align: top;\n",
       "    }\n",
       "\n",
       "    .dataframe thead th {\n",
       "        text-align: right;\n",
       "    }\n",
       "</style>\n",
       "<table border=\"1\" class=\"dataframe\">\n",
       "  <thead>\n",
       "    <tr style=\"text-align: right;\">\n",
       "      <th></th>\n",
       "      <th>diagonal</th>\n",
       "      <th>height_left</th>\n",
       "      <th>height_right</th>\n",
       "      <th>margin_low</th>\n",
       "      <th>margin_up</th>\n",
       "      <th>length</th>\n",
       "      <th>is_fake</th>\n",
       "    </tr>\n",
       "  </thead>\n",
       "  <tbody>\n",
       "    <tr>\n",
       "      <th>count</th>\n",
       "      <td>1500.00</td>\n",
       "      <td>1500.00</td>\n",
       "      <td>1500.00</td>\n",
       "      <td>1463.00</td>\n",
       "      <td>1500.00</td>\n",
       "      <td>1500.00</td>\n",
       "      <td>1500.00</td>\n",
       "    </tr>\n",
       "    <tr>\n",
       "      <th>mean</th>\n",
       "      <td>171.96</td>\n",
       "      <td>104.03</td>\n",
       "      <td>103.92</td>\n",
       "      <td>4.49</td>\n",
       "      <td>3.15</td>\n",
       "      <td>112.68</td>\n",
       "      <td>0.33</td>\n",
       "    </tr>\n",
       "    <tr>\n",
       "      <th>std</th>\n",
       "      <td>0.31</td>\n",
       "      <td>0.30</td>\n",
       "      <td>0.33</td>\n",
       "      <td>0.66</td>\n",
       "      <td>0.23</td>\n",
       "      <td>0.87</td>\n",
       "      <td>0.47</td>\n",
       "    </tr>\n",
       "    <tr>\n",
       "      <th>min</th>\n",
       "      <td>171.04</td>\n",
       "      <td>103.14</td>\n",
       "      <td>102.82</td>\n",
       "      <td>2.98</td>\n",
       "      <td>2.27</td>\n",
       "      <td>109.49</td>\n",
       "      <td>0.00</td>\n",
       "    </tr>\n",
       "    <tr>\n",
       "      <th>25%</th>\n",
       "      <td>171.75</td>\n",
       "      <td>103.82</td>\n",
       "      <td>103.71</td>\n",
       "      <td>4.01</td>\n",
       "      <td>2.99</td>\n",
       "      <td>112.03</td>\n",
       "      <td>0.00</td>\n",
       "    </tr>\n",
       "    <tr>\n",
       "      <th>50%</th>\n",
       "      <td>171.96</td>\n",
       "      <td>104.04</td>\n",
       "      <td>103.92</td>\n",
       "      <td>4.31</td>\n",
       "      <td>3.14</td>\n",
       "      <td>112.96</td>\n",
       "      <td>0.00</td>\n",
       "    </tr>\n",
       "    <tr>\n",
       "      <th>75%</th>\n",
       "      <td>172.17</td>\n",
       "      <td>104.23</td>\n",
       "      <td>104.15</td>\n",
       "      <td>4.87</td>\n",
       "      <td>3.31</td>\n",
       "      <td>113.34</td>\n",
       "      <td>1.00</td>\n",
       "    </tr>\n",
       "    <tr>\n",
       "      <th>max</th>\n",
       "      <td>173.01</td>\n",
       "      <td>104.88</td>\n",
       "      <td>104.95</td>\n",
       "      <td>6.90</td>\n",
       "      <td>3.91</td>\n",
       "      <td>114.44</td>\n",
       "      <td>1.00</td>\n",
       "    </tr>\n",
       "  </tbody>\n",
       "</table>\n",
       "</div>"
      ],
      "text/plain": [
       "       diagonal  height_left  height_right  margin_low  margin_up   length  \\\n",
       "count   1500.00      1500.00       1500.00     1463.00    1500.00  1500.00   \n",
       "mean     171.96       104.03        103.92        4.49       3.15   112.68   \n",
       "std        0.31         0.30          0.33        0.66       0.23     0.87   \n",
       "min      171.04       103.14        102.82        2.98       2.27   109.49   \n",
       "25%      171.75       103.82        103.71        4.01       2.99   112.03   \n",
       "50%      171.96       104.04        103.92        4.31       3.14   112.96   \n",
       "75%      172.17       104.23        104.15        4.87       3.31   113.34   \n",
       "max      173.01       104.88        104.95        6.90       3.91   114.44   \n",
       "\n",
       "       is_fake  \n",
       "count  1500.00  \n",
       "mean      0.33  \n",
       "std       0.47  \n",
       "min       0.00  \n",
       "25%       0.00  \n",
       "50%       0.00  \n",
       "75%       1.00  \n",
       "max       1.00  "
      ]
     },
     "execution_count": 16,
     "metadata": {},
     "output_type": "execute_result"
    }
   ],
   "source": [
    "#Statistiques descriptives\n",
    "train_df.describe().round(2)"
   ]
  },
  {
   "cell_type": "code",
   "execution_count": 17,
   "id": "17c7af28",
   "metadata": {},
   "outputs": [
    {
     "data": {
      "text/plain": [
       "0"
      ]
     },
     "execution_count": 17,
     "metadata": {},
     "output_type": "execute_result"
    }
   ],
   "source": [
    "#Nombre des doublons dans le DataFrame\n",
    "train_df.duplicated().sum()"
   ]
  },
  {
   "cell_type": "code",
   "execution_count": 18,
   "id": "6fc65dea",
   "metadata": {},
   "outputs": [
    {
     "data": {
      "text/plain": [
       "0"
      ]
     },
     "execution_count": 18,
     "metadata": {},
     "output_type": "execute_result"
    }
   ],
   "source": [
    "#Nombre des doublons sans le target\n",
    "train_df.drop(columns=\"is_fake\").duplicated().sum()"
   ]
  },
  {
   "cell_type": "code",
   "execution_count": 19,
   "id": "42eb1a53",
   "metadata": {},
   "outputs": [
    {
     "data": {
      "text/plain": [
       "diagonal        159\n",
       "height_left     155\n",
       "height_right    170\n",
       "margin_low      285\n",
       "margin_up       123\n",
       "length          336\n",
       "is_fake           2\n",
       "dtype: int64"
      ]
     },
     "execution_count": 19,
     "metadata": {},
     "output_type": "execute_result"
    }
   ],
   "source": [
    "#Information sur les valeurs unique dans chaque colonne\n",
    "train_df.nunique()"
   ]
  },
  {
   "cell_type": "code",
   "execution_count": 20,
   "id": "d8e6f52a",
   "metadata": {},
   "outputs": [
    {
     "data": {
      "text/plain": [
       "is_fake\n",
       "0.0    1000\n",
       "1.0     500\n",
       "Name: count, dtype: int64"
      ]
     },
     "execution_count": 20,
     "metadata": {},
     "output_type": "execute_result"
    }
   ],
   "source": [
    "#Nombre des valeurs dans la target\n",
    "train_df['is_fake'].value_counts()"
   ]
  },
  {
   "cell_type": "code",
   "execution_count": 21,
   "id": "68433a5e",
   "metadata": {},
   "outputs": [],
   "source": [
    "#creation de la colonne target\n",
    "train_df.rename(columns={'is_fake':'target'}, inplace=True)"
   ]
  },
  {
   "cell_type": "code",
   "execution_count": 22,
   "id": "7e9245cc",
   "metadata": {},
   "outputs": [
    {
     "data": {
      "image/png": "[encoded data removed]",
      "text/plain": [
       "<Figure size 640x480 with 1 Axes>"
      ]
     },
     "metadata": {},
     "output_type": "display_data"
    }
   ],
   "source": [
    "data=train_df['target'].value_counts()\n",
    "labels=data.index\n",
    "plt.pie(data, labels=labels, autopct='%1.1f%%')\n",
    "plt.title('Nombre des vrais et faux billets')\n",
    "plt.show()"
   ]
  },
  {
   "cell_type": "markdown",
   "id": "e45e89cb",
   "metadata": {},
   "source": [
    "1=faux\n",
    "0=vrai"
   ]
  },
  {
   "cell_type": "markdown",
   "id": "4f930728",
   "metadata": {},
   "source": [
    "## 2.3 Nettoyage des données"
   ]
  },
  {
   "cell_type": "code",
   "execution_count": 23,
   "id": "079f83fa",
   "metadata": {},
   "outputs": [
    {
     "data": {
      "text/plain": [
       "diagonal         0\n",
       "height_left      0\n",
       "height_right     0\n",
       "margin_low      37\n",
       "margin_up        0\n",
       "length           0\n",
       "target           0\n",
       "dtype: int64"
      ]
     },
     "execution_count": 23,
     "metadata": {},
     "output_type": "execute_result"
    }
   ],
   "source": [
    "#Nombre des valeurs manquantes dans chaque colonne\n",
    "train_df.isnull().sum()"
   ]
  },
  {
   "cell_type": "code",
   "execution_count": 24,
   "id": "5e27f4d3",
   "metadata": {},
   "outputs": [
    {
     "data": {
      "text/plain": [
       "margin_low    0.024667\n",
       "dtype: float64"
      ]
     },
     "execution_count": 24,
     "metadata": {},
     "output_type": "execute_result"
    }
   ],
   "source": [
    "#Nombre des valeurs manquantes dans chaque colonne\n",
    "tmp = train_df.isnull().mean()\n",
    "tmp[tmp > 0]"
   ]
  },
  {
   "cell_type": "markdown",
   "id": "aa1ce52f",
   "metadata": {},
   "source": [
    "On a 37 valeurs manquantes dans la colonne margin_low"
   ]
  },
  {
   "cell_type": "code",
   "execution_count": 25,
   "id": "91eb1b53",
   "metadata": {},
   "outputs": [
    {
     "name": "stdout",
     "output_type": "stream",
     "text": [
      "Percent of missing \"margin_low\" records is 2.47%\n"
     ]
    }
   ],
   "source": [
    "# Pourçentage des valeurs manquantes \n",
    "print('Percent of missing \"margin_low\" records is %.2f%%' %((train_df['margin_low'].isnull().sum()/train_df.shape[0])*100))"
   ]
  },
  {
   "cell_type": "markdown",
   "id": "e70b5266",
   "metadata": {},
   "source": [
    "~2,5% des données dans la colonne margin_low est manquantes. -> voir la distribution de cette variable"
   ]
  },
  {
   "cell_type": "code",
   "execution_count": 26,
   "id": "4719eabc",
   "metadata": {},
   "outputs": [
    {
     "data": {
      "image/png": "[encoded data removed]",
      "text/plain": [
       "<Figure size 640x480 with 1 Axes>"
      ]
     },
     "metadata": {},
     "output_type": "display_data"
    }
   ],
   "source": [
    "# la distribution de la variable 'margin_low'\n",
    "ax = train_df[\"margin_low\"].hist(bins=15, density=True, stacked=True, color='teal', alpha=0.6)\n",
    "train_df[\"margin_low\"].plot(kind='density', color='teal')\n",
    "ax.set(xlabel='margin_low')\n",
    "plt.xlim(0,10)\n",
    "plt.show()"
   ]
  },
  {
   "cell_type": "markdown",
   "id": "23ded8fa",
   "metadata": {},
   "source": [
    "### 2.3.1 Imputation des valeurs manquantes"
   ]
  },
  {
   "cell_type": "code",
   "execution_count": 27,
   "id": "52788549",
   "metadata": {},
   "outputs": [
    {
     "data": {
      "text/html": [
       "<div>\n",
       "<style scoped>\n",
       "    .dataframe tbody tr th:only-of-type {\n",
       "        vertical-align: middle;\n",
       "    }\n",
       "\n",
       "    .dataframe tbody tr th {\n",
       "        vertical-align: top;\n",
       "    }\n",
       "\n",
       "    .dataframe thead th {\n",
       "        text-align: right;\n",
       "    }\n",
       "</style>\n",
       "<table border=\"1\" class=\"dataframe\">\n",
       "  <thead>\n",
       "    <tr style=\"text-align: right;\">\n",
       "      <th></th>\n",
       "      <th>diagonal</th>\n",
       "      <th>height_left</th>\n",
       "      <th>height_right</th>\n",
       "      <th>margin_low</th>\n",
       "      <th>margin_up</th>\n",
       "      <th>length</th>\n",
       "      <th>target</th>\n",
       "    </tr>\n",
       "  </thead>\n",
       "  <tbody>\n",
       "    <tr>\n",
       "      <th>0</th>\n",
       "      <td>171.81</td>\n",
       "      <td>104.86</td>\n",
       "      <td>104.95</td>\n",
       "      <td>4.52</td>\n",
       "      <td>2.89</td>\n",
       "      <td>112.83</td>\n",
       "      <td>0.0</td>\n",
       "    </tr>\n",
       "    <tr>\n",
       "      <th>1</th>\n",
       "      <td>171.46</td>\n",
       "      <td>103.36</td>\n",
       "      <td>103.66</td>\n",
       "      <td>3.77</td>\n",
       "      <td>2.99</td>\n",
       "      <td>113.09</td>\n",
       "      <td>0.0</td>\n",
       "    </tr>\n",
       "    <tr>\n",
       "      <th>2</th>\n",
       "      <td>172.69</td>\n",
       "      <td>104.48</td>\n",
       "      <td>103.50</td>\n",
       "      <td>4.40</td>\n",
       "      <td>2.94</td>\n",
       "      <td>113.16</td>\n",
       "      <td>0.0</td>\n",
       "    </tr>\n",
       "    <tr>\n",
       "      <th>3</th>\n",
       "      <td>171.36</td>\n",
       "      <td>103.91</td>\n",
       "      <td>103.94</td>\n",
       "      <td>3.62</td>\n",
       "      <td>3.01</td>\n",
       "      <td>113.51</td>\n",
       "      <td>0.0</td>\n",
       "    </tr>\n",
       "    <tr>\n",
       "      <th>4</th>\n",
       "      <td>171.73</td>\n",
       "      <td>104.28</td>\n",
       "      <td>103.46</td>\n",
       "      <td>4.04</td>\n",
       "      <td>3.48</td>\n",
       "      <td>112.54</td>\n",
       "      <td>0.0</td>\n",
       "    </tr>\n",
       "    <tr>\n",
       "      <th>...</th>\n",
       "      <td>...</td>\n",
       "      <td>...</td>\n",
       "      <td>...</td>\n",
       "      <td>...</td>\n",
       "      <td>...</td>\n",
       "      <td>...</td>\n",
       "      <td>...</td>\n",
       "    </tr>\n",
       "    <tr>\n",
       "      <th>1495</th>\n",
       "      <td>171.75</td>\n",
       "      <td>104.38</td>\n",
       "      <td>104.17</td>\n",
       "      <td>4.42</td>\n",
       "      <td>3.09</td>\n",
       "      <td>111.28</td>\n",
       "      <td>1.0</td>\n",
       "    </tr>\n",
       "    <tr>\n",
       "      <th>1496</th>\n",
       "      <td>172.19</td>\n",
       "      <td>104.63</td>\n",
       "      <td>104.44</td>\n",
       "      <td>5.27</td>\n",
       "      <td>3.37</td>\n",
       "      <td>110.97</td>\n",
       "      <td>1.0</td>\n",
       "    </tr>\n",
       "    <tr>\n",
       "      <th>1497</th>\n",
       "      <td>171.80</td>\n",
       "      <td>104.01</td>\n",
       "      <td>104.12</td>\n",
       "      <td>5.51</td>\n",
       "      <td>3.36</td>\n",
       "      <td>111.95</td>\n",
       "      <td>1.0</td>\n",
       "    </tr>\n",
       "    <tr>\n",
       "      <th>1498</th>\n",
       "      <td>172.06</td>\n",
       "      <td>104.28</td>\n",
       "      <td>104.06</td>\n",
       "      <td>5.17</td>\n",
       "      <td>3.46</td>\n",
       "      <td>112.25</td>\n",
       "      <td>1.0</td>\n",
       "    </tr>\n",
       "    <tr>\n",
       "      <th>1499</th>\n",
       "      <td>171.47</td>\n",
       "      <td>104.15</td>\n",
       "      <td>103.82</td>\n",
       "      <td>4.63</td>\n",
       "      <td>3.37</td>\n",
       "      <td>112.07</td>\n",
       "      <td>1.0</td>\n",
       "    </tr>\n",
       "  </tbody>\n",
       "</table>\n",
       "<p>1500 rows × 7 columns</p>\n",
       "</div>"
      ],
      "text/plain": [
       "      diagonal  height_left  height_right  margin_low  margin_up  length  \\\n",
       "0       171.81       104.86        104.95        4.52       2.89  112.83   \n",
       "1       171.46       103.36        103.66        3.77       2.99  113.09   \n",
       "2       172.69       104.48        103.50        4.40       2.94  113.16   \n",
       "3       171.36       103.91        103.94        3.62       3.01  113.51   \n",
       "4       171.73       104.28        103.46        4.04       3.48  112.54   \n",
       "...        ...          ...           ...         ...        ...     ...   \n",
       "1495    171.75       104.38        104.17        4.42       3.09  111.28   \n",
       "1496    172.19       104.63        104.44        5.27       3.37  110.97   \n",
       "1497    171.80       104.01        104.12        5.51       3.36  111.95   \n",
       "1498    172.06       104.28        104.06        5.17       3.46  112.25   \n",
       "1499    171.47       104.15        103.82        4.63       3.37  112.07   \n",
       "\n",
       "      target  \n",
       "0        0.0  \n",
       "1        0.0  \n",
       "2        0.0  \n",
       "3        0.0  \n",
       "4        0.0  \n",
       "...      ...  \n",
       "1495     1.0  \n",
       "1496     1.0  \n",
       "1497     1.0  \n",
       "1498     1.0  \n",
       "1499     1.0  \n",
       "\n",
       "[1500 rows x 7 columns]"
      ]
     },
     "execution_count": 27,
     "metadata": {},
     "output_type": "execute_result"
    }
   ],
   "source": [
    "train_df"
   ]
  },
  {
   "cell_type": "markdown",
   "id": "8b1e57f1",
   "metadata": {},
   "source": [
    "On a un DataFrame qui contient X=6 (features)"
   ]
  },
  {
   "cell_type": "markdown",
   "id": "0df9f384",
   "metadata": {},
   "source": [
    "## Imputation des valeurs manquantes"
   ]
  },
  {
   "cell_type": "markdown",
   "id": "35b033ea",
   "metadata": {},
   "source": [
    "## les valeurs manquantes sont de type numerique"
   ]
  },
  {
   "cell_type": "markdown",
   "id": "7466ed47",
   "metadata": {},
   "source": [
    "*** 1. La methode regression lineaire de sklearn ***"
   ]
  },
  {
   "cell_type": "code",
   "execution_count": 28,
   "id": "f5448c0d",
   "metadata": {},
   "outputs": [],
   "source": [
    "# Séparer les données en deux ensembles : avec et sans valeurs manquantes\n",
    "\n",
    "test= train_df[train_df['margin_low'].isna()] #DataFrame qui contient que des valeurs manquantes dans la colonne margin_low\n",
    "\n",
    "train = train_df[~train_df['margin_low'].isna()] #dataframe sans valeurs manquantes"
   ]
  },
  {
   "cell_type": "code",
   "execution_count": 29,
   "id": "d2f6227f",
   "metadata": {},
   "outputs": [
    {
     "data": {
      "text/plain": [
       "(37, 7)"
      ]
     },
     "execution_count": 29,
     "metadata": {},
     "output_type": "execute_result"
    }
   ],
   "source": [
    "test.shape"
   ]
  },
  {
   "cell_type": "code",
   "execution_count": 30,
   "id": "d2fb0825",
   "metadata": {},
   "outputs": [
    {
     "data": {
      "text/plain": [
       "(1463, 7)"
      ]
     },
     "execution_count": 30,
     "metadata": {},
     "output_type": "execute_result"
    }
   ],
   "source": [
    "train.shape"
   ]
  },
  {
   "cell_type": "code",
   "execution_count": 31,
   "id": "3822a653",
   "metadata": {},
   "outputs": [
    {
     "data": {
      "text/html": [
       "<div>\n",
       "<style scoped>\n",
       "    .dataframe tbody tr th:only-of-type {\n",
       "        vertical-align: middle;\n",
       "    }\n",
       "\n",
       "    .dataframe tbody tr th {\n",
       "        vertical-align: top;\n",
       "    }\n",
       "\n",
       "    .dataframe thead th {\n",
       "        text-align: right;\n",
       "    }\n",
       "</style>\n",
       "<table border=\"1\" class=\"dataframe\">\n",
       "  <thead>\n",
       "    <tr style=\"text-align: right;\">\n",
       "      <th></th>\n",
       "      <th>diagonal</th>\n",
       "      <th>height_left</th>\n",
       "      <th>height_right</th>\n",
       "      <th>margin_up</th>\n",
       "      <th>length</th>\n",
       "    </tr>\n",
       "  </thead>\n",
       "  <tbody>\n",
       "    <tr>\n",
       "      <th>0</th>\n",
       "      <td>171.81</td>\n",
       "      <td>104.86</td>\n",
       "      <td>104.95</td>\n",
       "      <td>2.89</td>\n",
       "      <td>112.83</td>\n",
       "    </tr>\n",
       "    <tr>\n",
       "      <th>1</th>\n",
       "      <td>171.46</td>\n",
       "      <td>103.36</td>\n",
       "      <td>103.66</td>\n",
       "      <td>2.99</td>\n",
       "      <td>113.09</td>\n",
       "    </tr>\n",
       "    <tr>\n",
       "      <th>2</th>\n",
       "      <td>172.69</td>\n",
       "      <td>104.48</td>\n",
       "      <td>103.50</td>\n",
       "      <td>2.94</td>\n",
       "      <td>113.16</td>\n",
       "    </tr>\n",
       "    <tr>\n",
       "      <th>3</th>\n",
       "      <td>171.36</td>\n",
       "      <td>103.91</td>\n",
       "      <td>103.94</td>\n",
       "      <td>3.01</td>\n",
       "      <td>113.51</td>\n",
       "    </tr>\n",
       "    <tr>\n",
       "      <th>4</th>\n",
       "      <td>171.73</td>\n",
       "      <td>104.28</td>\n",
       "      <td>103.46</td>\n",
       "      <td>3.48</td>\n",
       "      <td>112.54</td>\n",
       "    </tr>\n",
       "  </tbody>\n",
       "</table>\n",
       "</div>"
      ],
      "text/plain": [
       "   diagonal  height_left  height_right  margin_up  length\n",
       "0    171.81       104.86        104.95       2.89  112.83\n",
       "1    171.46       103.36        103.66       2.99  113.09\n",
       "2    172.69       104.48        103.50       2.94  113.16\n",
       "3    171.36       103.91        103.94       3.01  113.51\n",
       "4    171.73       104.28        103.46       3.48  112.54"
      ]
     },
     "execution_count": 31,
     "metadata": {},
     "output_type": "execute_result"
    }
   ],
   "source": [
    "#les variables explicative (X)\n",
    "X_train = train.drop(columns=['margin_low', 'target'])\n",
    "X_train.head()"
   ]
  },
  {
   "cell_type": "code",
   "execution_count": 32,
   "id": "02a2b071",
   "metadata": {},
   "outputs": [
    {
     "data": {
      "text/plain": [
       "array([[-0.48859357,  2.76680735,  3.17376615, -1.13698239,  0.17784229],\n",
       "       [-1.63480853, -2.24148961, -0.80685073, -0.7048056 ,  0.47569209],\n",
       "       [ 2.39331832,  1.49803879, -1.30057066, -0.92089399,  0.55588243],\n",
       "       [-1.96229852, -0.40511406,  0.05715913, -0.61837024,  0.95683409],\n",
       "       [-0.75058556,  0.83026586, -1.42400064,  1.41286065, -0.15437481]])"
      ]
     },
     "execution_count": 32,
     "metadata": {},
     "output_type": "execute_result"
    }
   ],
   "source": [
    "# Création d'une instance de StandardScaler\n",
    "scaler_1 = StandardScaler()\n",
    "# Adapter le scaler aux données\n",
    "scaler_1.fit(X_train)\n",
    "\n",
    "# Standardiser les données\n",
    "X_train_scaled = scaler_1.transform(X_train)\n",
    "X_train_scaled[:5]"
   ]
  },
  {
   "cell_type": "code",
   "execution_count": 33,
   "id": "4f9cd8e7",
   "metadata": {},
   "outputs": [
    {
     "data": {
      "text/plain": [
       "(1463,)"
      ]
     },
     "execution_count": 33,
     "metadata": {},
     "output_type": "execute_result"
    }
   ],
   "source": [
    "#la variable cible (y) (target)\n",
    "y_train= train['margin_low']\n",
    "y_train.shape"
   ]
  },
  {
   "cell_type": "code",
   "execution_count": 34,
   "id": "dd055130",
   "metadata": {},
   "outputs": [
    {
     "name": "stdout",
     "output_type": "stream",
     "text": [
      "Model: Linear Regression\n",
      "Mean RMSE: 0.48164583801892374\n",
      "Standard deviation of RMSE: 0.11550617228305045\n",
      "\n",
      "Model: Naive Model (median)\n",
      "Mean RMSE: 0.6822920177155671\n",
      "Standard deviation of RMSE: 0.31702538904937455\n",
      "\n",
      "Model: Naive Model (Mean)\n",
      "Mean RMSE: 0.7213898563877186\n",
      "Standard deviation of RMSE: 0.20682302212606174\n",
      "\n"
     ]
    }
   ],
   "source": [
    "# Initialiser les modèles\n",
    "models = {\n",
    "    'Linear Regression': LinearRegression(),\n",
    "    'Naive Model (median)': DummyRegressor(strategy='median'),\n",
    "    'Naive Model (Mean)': DummyRegressor(strategy='mean')\n",
    "}\n",
    "\n",
    "# La validation croisée et les scores RMSE pour chaque modèle\n",
    "results = {}\n",
    "\n",
    "for model_name, model in models.items():\n",
    "    scores = cross_val_score(model, X_train_scaled, y_train, cv=5, scoring='neg_mean_squared_error')\n",
    "    rmse_scores = (-scores) ** 0.5\n",
    "    results[model_name] = {'mean_rmse': rmse_scores.mean(), 'std_rmse': rmse_scores.std()}\n",
    "\n",
    "# Affichage des résultats\n",
    "for model_name, result in results.items():\n",
    "    print(f\"Model: {model_name}\")\n",
    "    print(f\"Mean RMSE: {result['mean_rmse']}\")\n",
    "    print(f\"Standard deviation of RMSE: {result['std_rmse']}\\n\")\n"
   ]
  },
  {
   "cell_type": "markdown",
   "id": "77ee515e",
   "metadata": {},
   "source": [
    "Selon les métriques de RMSE (erreur), le modèle de régression linéaire démontre la meilleure performance parmi les trois modèles testés."
   ]
  },
  {
   "cell_type": "code",
   "execution_count": 35,
   "id": "0534c38a",
   "metadata": {},
   "outputs": [
    {
     "data": {
      "text/html": [
       "<style>#sk-container-id-1 {\n",
       "  /* Definition of color scheme common for light and dark mode */\n",
       "  --sklearn-color-text: black;\n",
       "  --sklearn-color-line: gray;\n",
       "  /* Definition of color scheme for unfitted estimators */\n",
       "  --sklearn-color-unfitted-level-0: #fff5e6;\n",
       "  --sklearn-color-unfitted-level-1: #f6e4d2;\n",
       "  --sklearn-color-unfitted-level-2: #ffe0b3;\n",
       "  --sklearn-color-unfitted-level-3: chocolate;\n",
       "  /* Definition of color scheme for fitted estimators */\n",
       "  --sklearn-color-fitted-level-0: #f0f8ff;\n",
       "  --sklearn-color-fitted-level-1: #d4ebff;\n",
       "  --sklearn-color-fitted-level-2: #b3dbfd;\n",
       "  --sklearn-color-fitted-level-3: cornflowerblue;\n",
       "\n",
       "  /* Specific color for light theme */\n",
       "  --sklearn-color-text-on-default-background: var(--sg-text-color, var(--theme-code-foreground, var(--jp-content-font-color1, black)));\n",
       "  --sklearn-color-background: var(--sg-background-color, var(--theme-background, var(--jp-layout-color0, white)));\n",
       "  --sklearn-color-border-box: var(--sg-text-color, var(--theme-code-foreground, var(--jp-content-font-color1, black)));\n",
       "  --sklearn-color-icon: #696969;\n",
       "\n",
       "  @media (prefers-color-scheme: dark) {\n",
       "    /* Redefinition of color scheme for dark theme */\n",
       "    --sklearn-color-text-on-default-background: var(--sg-text-color, var(--theme-code-foreground, var(--jp-content-font-color1, white)));\n",
       "    --sklearn-color-background: var(--sg-background-color, var(--theme-background, var(--jp-layout-color0, #111)));\n",
       "    --sklearn-color-border-box: var(--sg-text-color, var(--theme-code-foreground, var(--jp-content-font-color1, white)));\n",
       "    --sklearn-color-icon: #878787;\n",
       "  }\n",
       "}\n",
       "\n",
       "#sk-container-id-1 {\n",
       "  color: var(--sklearn-color-text);\n",
       "}\n",
       "\n",
       "#sk-container-id-1 pre {\n",
       "  padding: 0;\n",
       "}\n",
       "\n",
       "#sk-container-id-1 input.sk-hidden--visually {\n",
       "  border: 0;\n",
       "  clip: rect(1px 1px 1px 1px);\n",
       "  clip: rect(1px, 1px, 1px, 1px);\n",
       "  height: 1px;\n",
       "  margin: -1px;\n",
       "  overflow: hidden;\n",
       "  padding: 0;\n",
       "  position: absolute;\n",
       "  width: 1px;\n",
       "}\n",
       "\n",
       "#sk-container-id-1 div.sk-dashed-wrapped {\n",
       "  border: 1px dashed var(--sklearn-color-line);\n",
       "  margin: 0 0.4em 0.5em 0.4em;\n",
       "  box-sizing: border-box;\n",
       "  padding-bottom: 0.4em;\n",
       "  background-color: var(--sklearn-color-background);\n",
       "}\n",
       "\n",
       "#sk-container-id-1 div.sk-container {\n",
       "  /* jupyter's `normalize.less` sets `[hidden] { display: none; }`\n",
       "     but bootstrap.min.css set `[hidden] { display: none !important; }`\n",
       "     so we also need the `!important` here to be able to override the\n",
       "     default hidden behavior on the sphinx rendered scikit-learn.org.\n",
       "     See: https://github.com/scikit-learn/scikit-learn/issues/21755 */\n",
       "  display: inline-block !important;\n",
       "  position: relative;\n",
       "}\n",
       "\n",
       "#sk-container-id-1 div.sk-text-repr-fallback {\n",
       "  display: none;\n",
       "}\n",
       "\n",
       "div.sk-parallel-item,\n",
       "div.sk-serial,\n",
       "div.sk-item {\n",
       "  /* draw centered vertical line to link estimators */\n",
       "  background-image: linear-gradient(var(--sklearn-color-text-on-default-background), var(--sklearn-color-text-on-default-background));\n",
       "  background-size: 2px 100%;\n",
       "  background-repeat: no-repeat;\n",
       "  background-position: center center;\n",
       "}\n",
       "\n",
       "/* Parallel-specific style estimator block */\n",
       "\n",
       "#sk-container-id-1 div.sk-parallel-item::after {\n",
       "  content: \"\";\n",
       "  width: 100%;\n",
       "  border-bottom: 2px solid var(--sklearn-color-text-on-default-background);\n",
       "  flex-grow: 1;\n",
       "}\n",
       "\n",
       "#sk-container-id-1 div.sk-parallel {\n",
       "  display: flex;\n",
       "  align-items: stretch;\n",
       "  justify-content: center;\n",
       "  background-color: var(--sklearn-color-background);\n",
       "  position: relative;\n",
       "}\n",
       "\n",
       "#sk-container-id-1 div.sk-parallel-item {\n",
       "  display: flex;\n",
       "  flex-direction: column;\n",
       "}\n",
       "\n",
       "#sk-container-id-1 div.sk-parallel-item:first-child::after {\n",
       "  align-self: flex-end;\n",
       "  width: 50%;\n",
       "}\n",
       "\n",
       "#sk-container-id-1 div.sk-parallel-item:last-child::after {\n",
       "  align-self: flex-start;\n",
       "  width: 50%;\n",
       "}\n",
       "\n",
       "#sk-container-id-1 div.sk-parallel-item:only-child::after {\n",
       "  width: 0;\n",
       "}\n",
       "\n",
       "/* Serial-specific style estimator block */\n",
       "\n",
       "#sk-container-id-1 div.sk-serial {\n",
       "  display: flex;\n",
       "  flex-direction: column;\n",
       "  align-items: center;\n",
       "  background-color: var(--sklearn-color-background);\n",
       "  padding-right: 1em;\n",
       "  padding-left: 1em;\n",
       "}\n",
       "\n",
       "\n",
       "/* Toggleable style: style used for estimator/Pipeline/ColumnTransformer box that is\n",
       "clickable and can be expanded/collapsed.\n",
       "- Pipeline and ColumnTransformer use this feature and define the default style\n",
       "- Estimators will overwrite some part of the style using the `sk-estimator` class\n",
       "*/\n",
       "\n",
       "/* Pipeline and ColumnTransformer style (default) */\n",
       "\n",
       "#sk-container-id-1 div.sk-toggleable {\n",
       "  /* Default theme specific background. It is overwritten whether we have a\n",
       "  specific estimator or a Pipeline/ColumnTransformer */\n",
       "  background-color: var(--sklearn-color-background);\n",
       "}\n",
       "\n",
       "/* Toggleable label */\n",
       "#sk-container-id-1 label.sk-toggleable__label {\n",
       "  cursor: pointer;\n",
       "  display: block;\n",
       "  width: 100%;\n",
       "  margin-bottom: 0;\n",
       "  padding: 0.5em;\n",
       "  box-sizing: border-box;\n",
       "  text-align: center;\n",
       "}\n",
       "\n",
       "#sk-container-id-1 label.sk-toggleable__label-arrow:before {\n",
       "  /* Arrow on the left of the label */\n",
       "  content: \"▸\";\n",
       "  float: left;\n",
       "  margin-right: 0.25em;\n",
       "  color: var(--sklearn-color-icon);\n",
       "}\n",
       "\n",
       "#sk-container-id-1 label.sk-toggleable__label-arrow:hover:before {\n",
       "  color: var(--sklearn-color-text);\n",
       "}\n",
       "\n",
       "/* Toggleable content - dropdown */\n",
       "\n",
       "#sk-container-id-1 div.sk-toggleable__content {\n",
       "  max-height: 0;\n",
       "  max-width: 0;\n",
       "  overflow: hidden;\n",
       "  text-align: left;\n",
       "  /* unfitted */\n",
       "  background-color: var(--sklearn-color-unfitted-level-0);\n",
       "}\n",
       "\n",
       "#sk-container-id-1 div.sk-toggleable__content.fitted {\n",
       "  /* fitted */\n",
       "  background-color: var(--sklearn-color-fitted-level-0);\n",
       "}\n",
       "\n",
       "#sk-container-id-1 div.sk-toggleable__content pre {\n",
       "  margin: 0.2em;\n",
       "  border-radius: 0.25em;\n",
       "  color: var(--sklearn-color-text);\n",
       "  /* unfitted */\n",
       "  background-color: var(--sklearn-color-unfitted-level-0);\n",
       "}\n",
       "\n",
       "#sk-container-id-1 div.sk-toggleable__content.fitted pre {\n",
       "  /* unfitted */\n",
       "  background-color: var(--sklearn-color-fitted-level-0);\n",
       "}\n",
       "\n",
       "#sk-container-id-1 input.sk-toggleable__control:checked~div.sk-toggleable__content {\n",
       "  /* Expand drop-down */\n",
       "  max-height: 200px;\n",
       "  max-width: 100%;\n",
       "  overflow: auto;\n",
       "}\n",
       "\n",
       "#sk-container-id-1 input.sk-toggleable__control:checked~label.sk-toggleable__label-arrow:before {\n",
       "  content: \"▾\";\n",
       "}\n",
       "\n",
       "/* Pipeline/ColumnTransformer-specific style */\n",
       "\n",
       "#sk-container-id-1 div.sk-label input.sk-toggleable__control:checked~label.sk-toggleable__label {\n",
       "  color: var(--sklearn-color-text);\n",
       "  background-color: var(--sklearn-color-unfitted-level-2);\n",
       "}\n",
       "\n",
       "#sk-container-id-1 div.sk-label.fitted input.sk-toggleable__control:checked~label.sk-toggleable__label {\n",
       "  background-color: var(--sklearn-color-fitted-level-2);\n",
       "}\n",
       "\n",
       "/* Estimator-specific style */\n",
       "\n",
       "/* Colorize estimator box */\n",
       "#sk-container-id-1 div.sk-estimator input.sk-toggleable__control:checked~label.sk-toggleable__label {\n",
       "  /* unfitted */\n",
       "  background-color: var(--sklearn-color-unfitted-level-2);\n",
       "}\n",
       "\n",
       "#sk-container-id-1 div.sk-estimator.fitted input.sk-toggleable__control:checked~label.sk-toggleable__label {\n",
       "  /* fitted */\n",
       "  background-color: var(--sklearn-color-fitted-level-2);\n",
       "}\n",
       "\n",
       "#sk-container-id-1 div.sk-label label.sk-toggleable__label,\n",
       "#sk-container-id-1 div.sk-label label {\n",
       "  /* The background is the default theme color */\n",
       "  color: var(--sklearn-color-text-on-default-background);\n",
       "}\n",
       "\n",
       "/* On hover, darken the color of the background */\n",
       "#sk-container-id-1 div.sk-label:hover label.sk-toggleable__label {\n",
       "  color: var(--sklearn-color-text);\n",
       "  background-color: var(--sklearn-color-unfitted-level-2);\n",
       "}\n",
       "\n",
       "/* Label box, darken color on hover, fitted */\n",
       "#sk-container-id-1 div.sk-label.fitted:hover label.sk-toggleable__label.fitted {\n",
       "  color: var(--sklearn-color-text);\n",
       "  background-color: var(--sklearn-color-fitted-level-2);\n",
       "}\n",
       "\n",
       "/* Estimator label */\n",
       "\n",
       "#sk-container-id-1 div.sk-label label {\n",
       "  font-family: monospace;\n",
       "  font-weight: bold;\n",
       "  display: inline-block;\n",
       "  line-height: 1.2em;\n",
       "}\n",
       "\n",
       "#sk-container-id-1 div.sk-label-container {\n",
       "  text-align: center;\n",
       "}\n",
       "\n",
       "/* Estimator-specific */\n",
       "#sk-container-id-1 div.sk-estimator {\n",
       "  font-family: monospace;\n",
       "  border: 1px dotted var(--sklearn-color-border-box);\n",
       "  border-radius: 0.25em;\n",
       "  box-sizing: border-box;\n",
       "  margin-bottom: 0.5em;\n",
       "  /* unfitted */\n",
       "  background-color: var(--sklearn-color-unfitted-level-0);\n",
       "}\n",
       "\n",
       "#sk-container-id-1 div.sk-estimator.fitted {\n",
       "  /* fitted */\n",
       "  background-color: var(--sklearn-color-fitted-level-0);\n",
       "}\n",
       "\n",
       "/* on hover */\n",
       "#sk-container-id-1 div.sk-estimator:hover {\n",
       "  /* unfitted */\n",
       "  background-color: var(--sklearn-color-unfitted-level-2);\n",
       "}\n",
       "\n",
       "#sk-container-id-1 div.sk-estimator.fitted:hover {\n",
       "  /* fitted */\n",
       "  background-color: var(--sklearn-color-fitted-level-2);\n",
       "}\n",
       "\n",
       "/* Specification for estimator info (e.g. \"i\" and \"?\") */\n",
       "\n",
       "/* Common style for \"i\" and \"?\" */\n",
       "\n",
       ".sk-estimator-doc-link,\n",
       "a:link.sk-estimator-doc-link,\n",
       "a:visited.sk-estimator-doc-link {\n",
       "  float: right;\n",
       "  font-size: smaller;\n",
       "  line-height: 1em;\n",
       "  font-family: monospace;\n",
       "  background-color: var(--sklearn-color-background);\n",
       "  border-radius: 1em;\n",
       "  height: 1em;\n",
       "  width: 1em;\n",
       "  text-decoration: none !important;\n",
       "  margin-left: 1ex;\n",
       "  /* unfitted */\n",
       "  border: var(--sklearn-color-unfitted-level-1) 1pt solid;\n",
       "  color: var(--sklearn-color-unfitted-level-1);\n",
       "}\n",
       "\n",
       ".sk-estimator-doc-link.fitted,\n",
       "a:link.sk-estimator-doc-link.fitted,\n",
       "a:visited.sk-estimator-doc-link.fitted {\n",
       "  /* fitted */\n",
       "  border: var(--sklearn-color-fitted-level-1) 1pt solid;\n",
       "  color: var(--sklearn-color-fitted-level-1);\n",
       "}\n",
       "\n",
       "/* On hover */\n",
       "div.sk-estimator:hover .sk-estimator-doc-link:hover,\n",
       ".sk-estimator-doc-link:hover,\n",
       "div.sk-label-container:hover .sk-estimator-doc-link:hover,\n",
       ".sk-estimator-doc-link:hover {\n",
       "  /* unfitted */\n",
       "  background-color: var(--sklearn-color-unfitted-level-3);\n",
       "  color: var(--sklearn-color-background);\n",
       "  text-decoration: none;\n",
       "}\n",
       "\n",
       "div.sk-estimator.fitted:hover .sk-estimator-doc-link.fitted:hover,\n",
       ".sk-estimator-doc-link.fitted:hover,\n",
       "div.sk-label-container:hover .sk-estimator-doc-link.fitted:hover,\n",
       ".sk-estimator-doc-link.fitted:hover {\n",
       "  /* fitted */\n",
       "  background-color: var(--sklearn-color-fitted-level-3);\n",
       "  color: var(--sklearn-color-background);\n",
       "  text-decoration: none;\n",
       "}\n",
       "\n",
       "/* Span, style for the box shown on hovering the info icon */\n",
       ".sk-estimator-doc-link span {\n",
       "  display: none;\n",
       "  z-index: 9999;\n",
       "  position: relative;\n",
       "  font-weight: normal;\n",
       "  right: .2ex;\n",
       "  padding: .5ex;\n",
       "  margin: .5ex;\n",
       "  width: min-content;\n",
       "  min-width: 20ex;\n",
       "  max-width: 50ex;\n",
       "  color: var(--sklearn-color-text);\n",
       "  box-shadow: 2pt 2pt 4pt #999;\n",
       "  /* unfitted */\n",
       "  background: var(--sklearn-color-unfitted-level-0);\n",
       "  border: .5pt solid var(--sklearn-color-unfitted-level-3);\n",
       "}\n",
       "\n",
       ".sk-estimator-doc-link.fitted span {\n",
       "  /* fitted */\n",
       "  background: var(--sklearn-color-fitted-level-0);\n",
       "  border: var(--sklearn-color-fitted-level-3);\n",
       "}\n",
       "\n",
       ".sk-estimator-doc-link:hover span {\n",
       "  display: block;\n",
       "}\n",
       "\n",
       "/* \"?\"-specific style due to the `<a>` HTML tag */\n",
       "\n",
       "#sk-container-id-1 a.estimator_doc_link {\n",
       "  float: right;\n",
       "  font-size: 1rem;\n",
       "  line-height: 1em;\n",
       "  font-family: monospace;\n",
       "  background-color: var(--sklearn-color-background);\n",
       "  border-radius: 1rem;\n",
       "  height: 1rem;\n",
       "  width: 1rem;\n",
       "  text-decoration: none;\n",
       "  /* unfitted */\n",
       "  color: var(--sklearn-color-unfitted-level-1);\n",
       "  border: var(--sklearn-color-unfitted-level-1) 1pt solid;\n",
       "}\n",
       "\n",
       "#sk-container-id-1 a.estimator_doc_link.fitted {\n",
       "  /* fitted */\n",
       "  border: var(--sklearn-color-fitted-level-1) 1pt solid;\n",
       "  color: var(--sklearn-color-fitted-level-1);\n",
       "}\n",
       "\n",
       "/* On hover */\n",
       "#sk-container-id-1 a.estimator_doc_link:hover {\n",
       "  /* unfitted */\n",
       "  background-color: var(--sklearn-color-unfitted-level-3);\n",
       "  color: var(--sklearn-color-background);\n",
       "  text-decoration: none;\n",
       "}\n",
       "\n",
       "#sk-container-id-1 a.estimator_doc_link.fitted:hover {\n",
       "  /* fitted */\n",
       "  background-color: var(--sklearn-color-fitted-level-3);\n",
       "}\n",
       "</style><div id=\"sk-container-id-1\" class=\"sk-top-container\"><div class=\"sk-text-repr-fallback\"><pre>LinearRegression()</pre><b>In a Jupyter environment, please rerun this cell to show the HTML representation or trust the notebook. <br />On GitHub, the HTML representation is unable to render, please try loading this page with nbviewer.org.</b></div><div class=\"sk-container\" hidden><div class=\"sk-item\"><div class=\"sk-estimator fitted sk-toggleable\"><input class=\"sk-toggleable__control sk-hidden--visually\" id=\"sk-estimator-id-1\" type=\"checkbox\" checked><label for=\"sk-estimator-id-1\" class=\"sk-toggleable__label fitted sk-toggleable__label-arrow fitted\">&nbsp;&nbsp;LinearRegression<a class=\"sk-estimator-doc-link fitted\" rel=\"noreferrer\" target=\"_blank\" href=\"https://scikit-learn.org/1.4/modules/generated/sklearn.linear_model.LinearRegression.html\">?<span>Documentation for LinearRegression</span></a><span class=\"sk-estimator-doc-link fitted\">i<span>Fitted</span></span></label><div class=\"sk-toggleable__content fitted\"><pre>LinearRegression()</pre></div> </div></div></div></div>"
      ],
      "text/plain": [
       "LinearRegression()"
      ]
     },
     "execution_count": 35,
     "metadata": {},
     "output_type": "execute_result"
    }
   ],
   "source": [
    "## Model_1: Régression linéaire\n",
    "# Créer et entraîner le modèle de régression linéaire\n",
    "model_1 = LinearRegression()\n",
    "model_1.fit(X_train_scaled, y_train)"
   ]
  },
  {
   "cell_type": "code",
   "execution_count": 36,
   "id": "df03762a",
   "metadata": {},
   "outputs": [],
   "source": [
    "#creation de la variable X_test\n",
    "X_test = test.drop(columns=['margin_low', 'target'])"
   ]
  },
  {
   "cell_type": "code",
   "execution_count": 37,
   "id": "ff289dc2",
   "metadata": {},
   "outputs": [
    {
     "data": {
      "text/html": [
       "<div>\n",
       "<style scoped>\n",
       "    .dataframe tbody tr th:only-of-type {\n",
       "        vertical-align: middle;\n",
       "    }\n",
       "\n",
       "    .dataframe tbody tr th {\n",
       "        vertical-align: top;\n",
       "    }\n",
       "\n",
       "    .dataframe thead th {\n",
       "        text-align: right;\n",
       "    }\n",
       "</style>\n",
       "<table border=\"1\" class=\"dataframe\">\n",
       "  <thead>\n",
       "    <tr style=\"text-align: right;\">\n",
       "      <th></th>\n",
       "      <th>diagonal</th>\n",
       "      <th>height_left</th>\n",
       "      <th>height_right</th>\n",
       "      <th>margin_up</th>\n",
       "      <th>length</th>\n",
       "    </tr>\n",
       "  </thead>\n",
       "  <tbody>\n",
       "    <tr>\n",
       "      <th>72</th>\n",
       "      <td>171.94</td>\n",
       "      <td>103.89</td>\n",
       "      <td>103.45</td>\n",
       "      <td>3.25</td>\n",
       "      <td>112.79</td>\n",
       "    </tr>\n",
       "    <tr>\n",
       "      <th>99</th>\n",
       "      <td>171.93</td>\n",
       "      <td>104.07</td>\n",
       "      <td>104.18</td>\n",
       "      <td>3.14</td>\n",
       "      <td>113.08</td>\n",
       "    </tr>\n",
       "    <tr>\n",
       "      <th>151</th>\n",
       "      <td>172.07</td>\n",
       "      <td>103.80</td>\n",
       "      <td>104.38</td>\n",
       "      <td>3.02</td>\n",
       "      <td>112.93</td>\n",
       "    </tr>\n",
       "    <tr>\n",
       "      <th>197</th>\n",
       "      <td>171.45</td>\n",
       "      <td>103.66</td>\n",
       "      <td>103.80</td>\n",
       "      <td>3.62</td>\n",
       "      <td>113.27</td>\n",
       "    </tr>\n",
       "    <tr>\n",
       "      <th>241</th>\n",
       "      <td>171.83</td>\n",
       "      <td>104.14</td>\n",
       "      <td>104.06</td>\n",
       "      <td>3.02</td>\n",
       "      <td>112.36</td>\n",
       "    </tr>\n",
       "  </tbody>\n",
       "</table>\n",
       "</div>"
      ],
      "text/plain": [
       "     diagonal  height_left  height_right  margin_up  length\n",
       "72     171.94       103.89        103.45       3.25  112.79\n",
       "99     171.93       104.07        104.18       3.14  113.08\n",
       "151    172.07       103.80        104.38       3.02  112.93\n",
       "197    171.45       103.66        103.80       3.62  113.27\n",
       "241    171.83       104.14        104.06       3.02  112.36"
      ]
     },
     "execution_count": 37,
     "metadata": {},
     "output_type": "execute_result"
    }
   ],
   "source": [
    "X_test.head()"
   ]
  },
  {
   "cell_type": "code",
   "execution_count": 38,
   "id": "8eb39e44",
   "metadata": {},
   "outputs": [
    {
     "data": {
      "text/plain": [
       "array([[-0.06285659, -0.47189135, -1.45485813,  0.41885404,  0.13201924],\n",
       "       [-0.09560559,  0.12910429,  0.79773902, -0.05654042,  0.46423633],\n",
       "       [ 0.3628804 , -0.77238917,  1.41488892, -0.57515256,  0.2923999 ],\n",
       "       [-1.66755753, -1.23983022, -0.3748458 ,  2.01790815,  0.68189581],\n",
       "       [-0.42309557,  0.36282481,  0.42744908, -0.57515256, -0.36057852]])"
      ]
     },
     "execution_count": 38,
     "metadata": {},
     "output_type": "execute_result"
    }
   ],
   "source": [
    "# Standardisation des données de X_test\n",
    "X_test_scaled = scaler_1.transform(X_test)\n",
    "X_test_scaled[:5]"
   ]
  },
  {
   "cell_type": "code",
   "execution_count": 39,
   "id": "a5b8c4bc",
   "metadata": {},
   "outputs": [],
   "source": [
    "# Prédire les valeurs manquantes\n",
    "y_predicted = model_1.predict(X_test_scaled)"
   ]
  },
  {
   "cell_type": "code",
   "execution_count": 40,
   "id": "fbf8ea8e",
   "metadata": {},
   "outputs": [
    {
     "data": {
      "text/plain": [
       "(37,)"
      ]
     },
     "execution_count": 40,
     "metadata": {},
     "output_type": "execute_result"
    }
   ],
   "source": [
    "y_predicted.shape"
   ]
  },
  {
   "cell_type": "code",
   "execution_count": 41,
   "id": "54123bfd",
   "metadata": {},
   "outputs": [
    {
     "data": {
      "text/plain": [
       "array([4.31852466, 4.39366755, 4.41045663, 4.31901423, 4.6506171 ,\n",
       "       3.80330831, 4.17973608, 4.12744154, 4.13503418, 4.16053851,\n",
       "       4.17742026, 3.76855378, 4.05876385, 4.29804709, 4.16060746,\n",
       "       4.09406453, 4.43984627, 4.47065037, 4.34164322, 4.08041448,\n",
       "       3.61430588, 4.37181147, 4.09362068, 4.24962896, 3.89374829,\n",
       "       3.74633265, 4.23741481, 4.71053287, 4.13778022, 5.05027715,\n",
       "       4.80214523, 5.067584  , 5.04756967, 4.77896717, 5.726993  ,\n",
       "       5.18586214, 5.14004269])"
      ]
     },
     "execution_count": 41,
     "metadata": {},
     "output_type": "execute_result"
    }
   ],
   "source": [
    "y_predicted"
   ]
  },
  {
   "cell_type": "code",
   "execution_count": 42,
   "id": "3ce7e2a1",
   "metadata": {},
   "outputs": [],
   "source": [
    "#Creation d'une copy de notre DataFrame\n",
    "df_reg=train_df.copy()"
   ]
  },
  {
   "cell_type": "code",
   "execution_count": 43,
   "id": "41974c62",
   "metadata": {},
   "outputs": [],
   "source": [
    "# Remplacement des valeurs manquantes par les valeurs prédites\n",
    "df_reg.loc[df_reg['margin_low'].isna(), 'margin_low'] = y_predicted"
   ]
  },
  {
   "cell_type": "code",
   "execution_count": 44,
   "id": "713ee100",
   "metadata": {},
   "outputs": [
    {
     "data": {
      "text/plain": [
       "diagonal        0\n",
       "height_left     0\n",
       "height_right    0\n",
       "margin_low      0\n",
       "margin_up       0\n",
       "length          0\n",
       "target          0\n",
       "dtype: int64"
      ]
     },
     "execution_count": 44,
     "metadata": {},
     "output_type": "execute_result"
    }
   ],
   "source": [
    "#Verification\n",
    "df_reg.isnull().sum()"
   ]
  },
  {
   "cell_type": "code",
   "execution_count": 45,
   "id": "c889104d",
   "metadata": {},
   "outputs": [
    {
     "data": {
      "text/html": [
       "<div>\n",
       "<style scoped>\n",
       "    .dataframe tbody tr th:only-of-type {\n",
       "        vertical-align: middle;\n",
       "    }\n",
       "\n",
       "    .dataframe tbody tr th {\n",
       "        vertical-align: top;\n",
       "    }\n",
       "\n",
       "    .dataframe thead th {\n",
       "        text-align: right;\n",
       "    }\n",
       "</style>\n",
       "<table border=\"1\" class=\"dataframe\">\n",
       "  <thead>\n",
       "    <tr style=\"text-align: right;\">\n",
       "      <th></th>\n",
       "      <th>diagonal</th>\n",
       "      <th>height_left</th>\n",
       "      <th>height_right</th>\n",
       "      <th>margin_low</th>\n",
       "      <th>margin_up</th>\n",
       "      <th>length</th>\n",
       "      <th>target</th>\n",
       "    </tr>\n",
       "  </thead>\n",
       "  <tbody>\n",
       "    <tr>\n",
       "      <th>0</th>\n",
       "      <td>171.81</td>\n",
       "      <td>104.86</td>\n",
       "      <td>104.95</td>\n",
       "      <td>4.52</td>\n",
       "      <td>2.89</td>\n",
       "      <td>112.83</td>\n",
       "      <td>0.0</td>\n",
       "    </tr>\n",
       "    <tr>\n",
       "      <th>1</th>\n",
       "      <td>171.46</td>\n",
       "      <td>103.36</td>\n",
       "      <td>103.66</td>\n",
       "      <td>3.77</td>\n",
       "      <td>2.99</td>\n",
       "      <td>113.09</td>\n",
       "      <td>0.0</td>\n",
       "    </tr>\n",
       "    <tr>\n",
       "      <th>2</th>\n",
       "      <td>172.69</td>\n",
       "      <td>104.48</td>\n",
       "      <td>103.50</td>\n",
       "      <td>4.40</td>\n",
       "      <td>2.94</td>\n",
       "      <td>113.16</td>\n",
       "      <td>0.0</td>\n",
       "    </tr>\n",
       "    <tr>\n",
       "      <th>3</th>\n",
       "      <td>171.36</td>\n",
       "      <td>103.91</td>\n",
       "      <td>103.94</td>\n",
       "      <td>3.62</td>\n",
       "      <td>3.01</td>\n",
       "      <td>113.51</td>\n",
       "      <td>0.0</td>\n",
       "    </tr>\n",
       "    <tr>\n",
       "      <th>4</th>\n",
       "      <td>171.73</td>\n",
       "      <td>104.28</td>\n",
       "      <td>103.46</td>\n",
       "      <td>4.04</td>\n",
       "      <td>3.48</td>\n",
       "      <td>112.54</td>\n",
       "      <td>0.0</td>\n",
       "    </tr>\n",
       "  </tbody>\n",
       "</table>\n",
       "</div>"
      ],
      "text/plain": [
       "   diagonal  height_left  height_right  margin_low  margin_up  length  target\n",
       "0    171.81       104.86        104.95        4.52       2.89  112.83     0.0\n",
       "1    171.46       103.36        103.66        3.77       2.99  113.09     0.0\n",
       "2    172.69       104.48        103.50        4.40       2.94  113.16     0.0\n",
       "3    171.36       103.91        103.94        3.62       3.01  113.51     0.0\n",
       "4    171.73       104.28        103.46        4.04       3.48  112.54     0.0"
      ]
     },
     "execution_count": 45,
     "metadata": {},
     "output_type": "execute_result"
    }
   ],
   "source": [
    "# preview adjusted train data\n",
    "df_reg.head()"
   ]
  },
  {
   "cell_type": "code",
   "execution_count": 46,
   "id": "cb725d1e",
   "metadata": {},
   "outputs": [
    {
     "data": {
      "image/png": "[encoded data removed]",
      "text/plain": [
       "<Figure size 1500x800 with 1 Axes>"
      ]
     },
     "metadata": {},
     "output_type": "display_data"
    }
   ],
   "source": [
    "#Verification avec visualisation\n",
    "plt.figure(figsize=(15,8))\n",
    "ax = train_df[\"margin_low\"].hist(bins=15, density=True, stacked=True, color='teal', alpha=0.6)\n",
    "train_df[\"margin_low\"].plot(kind='density', color='teal')\n",
    "ax = df_reg[\"margin_low\"].hist(bins=15, density=True, stacked=True, color='orange', alpha=0.5)\n",
    "df_reg[\"margin_low\"].plot(kind='density', color='orange')\n",
    "ax.legend(['Raw margin_low', 'Adjusted margin_low'])\n",
    "ax.set(xlabel='margin_low')\n",
    "plt.xlim(0,10)\n",
    "plt.show()"
   ]
  },
  {
   "cell_type": "markdown",
   "id": "681eff60",
   "metadata": {},
   "source": [
    "2. La méthode de régression linéaire de Statsmodels"
   ]
  },
  {
   "cell_type": "code",
   "execution_count": 47,
   "id": "db9e2d99",
   "metadata": {},
   "outputs": [
    {
     "name": "stdout",
     "output_type": "stream",
     "text": [
      "[-0.16744253 -0.09229964 -0.07551056 -0.16695296  0.16464991 -0.68265889\n",
      " -0.30623111 -0.35852565 -0.35093301 -0.32542868 -0.30854693 -0.71741341\n",
      " -0.42720334 -0.1879201  -0.32535973 -0.39190266 -0.04612093 -0.01531682\n",
      " -0.14432397 -0.40555271 -0.87166131 -0.11415572 -0.39234651 -0.23633823\n",
      " -0.5922189  -0.73963454 -0.24855238  0.22456568 -0.34818697  0.56430996\n",
      "  0.31617803  0.58161681  0.56160248  0.29299998  1.24102581  0.69989494\n",
      "  0.6540755 ]\n"
     ]
    }
   ],
   "source": [
    "# Créer et ajuster le modèle aux données d'entraînement\n",
    "model_2 = sm.OLS(y_train, X_train_scaled)\n",
    "model_fit = model_2.fit()\n",
    "\n",
    "# Faire des prédictions sur les données de test mises à l'échelle\n",
    "predicted_values = model_fit.predict(X_test_scaled)\n",
    "\n",
    "# Afficher les valeurs prédites\n",
    "print(predicted_values)"
   ]
  },
  {
   "cell_type": "markdown",
   "id": "dd6d9da5",
   "metadata": {},
   "source": [
    "Avec Statsmodels, on doit ajouter manuellement une colonne qui contient une constante"
   ]
  },
  {
   "cell_type": "code",
   "execution_count": 48,
   "id": "6284684c",
   "metadata": {},
   "outputs": [
    {
     "data": {
      "text/plain": [
       "array([[ 1.        , -0.06285659, -0.47189135, -1.45485813,  0.41885404,\n",
       "         0.13201924],\n",
       "       [ 1.        , -0.09560559,  0.12910429,  0.79773902, -0.05654042,\n",
       "         0.46423633],\n",
       "       [ 1.        ,  0.3628804 , -0.77238917,  1.41488892, -0.57515256,\n",
       "         0.2923999 ],\n",
       "       [ 1.        , -1.66755753, -1.23983022, -0.3748458 ,  2.01790815,\n",
       "         0.68189581],\n",
       "       [ 1.        , -0.42309557,  0.36282481,  0.42744908, -0.57515256,\n",
       "        -0.36057852]])"
      ]
     },
     "execution_count": 48,
     "metadata": {},
     "output_type": "execute_result"
    }
   ],
   "source": [
    "#On a besoin d'une constante dans ce maodéle\n",
    "X_train_scaled_with_const = sm.add_constant(X_train_scaled)\n",
    "X_test_scaled_with_const = sm.add_constant(X_test_scaled)\n",
    "X_test_scaled_with_const[:5]"
   ]
  },
  {
   "cell_type": "code",
   "execution_count": 49,
   "id": "189d0586",
   "metadata": {},
   "outputs": [],
   "source": [
    "model_2 = sm.OLS(y_train, X_train_scaled_with_const).fit()"
   ]
  },
  {
   "cell_type": "code",
   "execution_count": 50,
   "id": "4af8efba",
   "metadata": {},
   "outputs": [
    {
     "data": {
      "text/plain": [
       "const    4.485967\n",
       "x1      -0.033912\n",
       "x2       0.055145\n",
       "x3       0.083331\n",
       "x4       0.059278\n",
       "x5      -0.357115\n",
       "dtype: float64"
      ]
     },
     "execution_count": 50,
     "metadata": {},
     "output_type": "execute_result"
    }
   ],
   "source": [
    "model_2.params"
   ]
  },
  {
   "cell_type": "code",
   "execution_count": 51,
   "id": "0254a22b",
   "metadata": {},
   "outputs": [
    {
     "data": {
      "text/html": [
       "<table class=\"simpletable\">\n",
       "<caption>OLS Regression Results</caption>\n",
       "<tr>\n",
       "  <th>Dep. Variable:</th>       <td>margin_low</td>    <th>  R-squared:         </th> <td>   0.477</td> \n",
       "</tr>\n",
       "<tr>\n",
       "  <th>Model:</th>                   <td>OLS</td>       <th>  Adj. R-squared:    </th> <td>   0.476</td> \n",
       "</tr>\n",
       "<tr>\n",
       "  <th>Method:</th>             <td>Least Squares</td>  <th>  F-statistic:       </th> <td>   266.1</td> \n",
       "</tr>\n",
       "<tr>\n",
       "  <th>Date:</th>             <td>Thu, 14 Mar 2024</td> <th>  Prob (F-statistic):</th> <td>2.60e-202</td>\n",
       "</tr>\n",
       "<tr>\n",
       "  <th>Time:</th>                 <td>15:52:02</td>     <th>  Log-Likelihood:    </th> <td> -1001.3</td> \n",
       "</tr>\n",
       "<tr>\n",
       "  <th>No. Observations:</th>      <td>  1463</td>      <th>  AIC:               </th> <td>   2015.</td> \n",
       "</tr>\n",
       "<tr>\n",
       "  <th>Df Residuals:</th>          <td>  1457</td>      <th>  BIC:               </th> <td>   2046.</td> \n",
       "</tr>\n",
       "<tr>\n",
       "  <th>Df Model:</th>              <td>     5</td>      <th>                     </th>     <td> </td>    \n",
       "</tr>\n",
       "<tr>\n",
       "  <th>Covariance Type:</th>      <td>nonrobust</td>    <th>                     </th>     <td> </td>    \n",
       "</tr>\n",
       "</table>\n",
       "<table class=\"simpletable\">\n",
       "<tr>\n",
       "    <td></td>       <th>coef</th>     <th>std err</th>      <th>t</th>      <th>P>|t|</th>  <th>[0.025</th>    <th>0.975]</th>  \n",
       "</tr>\n",
       "<tr>\n",
       "  <th>const</th> <td>    4.4860</td> <td>    0.013</td> <td>  356.926</td> <td> 0.000</td> <td>    4.461</td> <td>    4.511</td>\n",
       "</tr>\n",
       "<tr>\n",
       "  <th>x1</th>    <td>   -0.0339</td> <td>    0.013</td> <td>   -2.680</td> <td> 0.007</td> <td>   -0.059</td> <td>   -0.009</td>\n",
       "</tr>\n",
       "<tr>\n",
       "  <th>x2</th>    <td>    0.0551</td> <td>    0.013</td> <td>    4.113</td> <td> 0.000</td> <td>    0.029</td> <td>    0.081</td>\n",
       "</tr>\n",
       "<tr>\n",
       "  <th>x3</th>    <td>    0.0833</td> <td>    0.014</td> <td>    5.978</td> <td> 0.000</td> <td>    0.056</td> <td>    0.111</td>\n",
       "</tr>\n",
       "<tr>\n",
       "  <th>x4</th>    <td>    0.0593</td> <td>    0.015</td> <td>    3.980</td> <td> 0.000</td> <td>    0.030</td> <td>    0.088</td>\n",
       "</tr>\n",
       "<tr>\n",
       "  <th>x5</th>    <td>   -0.3571</td> <td>    0.016</td> <td>  -22.627</td> <td> 0.000</td> <td>   -0.388</td> <td>   -0.326</td>\n",
       "</tr>\n",
       "</table>\n",
       "<table class=\"simpletable\">\n",
       "<tr>\n",
       "  <th>Omnibus:</th>       <td>73.627</td> <th>  Durbin-Watson:     </th> <td>   1.893</td>\n",
       "</tr>\n",
       "<tr>\n",
       "  <th>Prob(Omnibus):</th> <td> 0.000</td> <th>  Jarque-Bera (JB):  </th> <td>  95.862</td>\n",
       "</tr>\n",
       "<tr>\n",
       "  <th>Skew:</th>          <td> 0.482</td> <th>  Prob(JB):          </th> <td>1.53e-21</td>\n",
       "</tr>\n",
       "<tr>\n",
       "  <th>Kurtosis:</th>      <td> 3.801</td> <th>  Cond. No.          </th> <td>    2.12</td>\n",
       "</tr>\n",
       "</table><br/><br/>Notes:<br/>[1] Standard Errors assume that the covariance matrix of the errors is correctly specified."
      ],
      "text/latex": [
       "\\begin{center}\n",
       "\\begin{tabular}{lclc}\n",
       "\\toprule\n",
       "\\textbf{Dep. Variable:}    &   margin\\_low    & \\textbf{  R-squared:         } &     0.477   \\\\\n",
       "\\textbf{Model:}            &       OLS        & \\textbf{  Adj. R-squared:    } &     0.476   \\\\\n",
       "\\textbf{Method:}           &  Least Squares   & \\textbf{  F-statistic:       } &     266.1   \\\\\n",
       "\\textbf{Date:}             & Thu, 14 Mar 2024 & \\textbf{  Prob (F-statistic):} & 2.60e-202   \\\\\n",
       "\\textbf{Time:}             &     15:52:02     & \\textbf{  Log-Likelihood:    } &   -1001.3   \\\\\n",
       "\\textbf{No. Observations:} &        1463      & \\textbf{  AIC:               } &     2015.   \\\\\n",
       "\\textbf{Df Residuals:}     &        1457      & \\textbf{  BIC:               } &     2046.   \\\\\n",
       "\\textbf{Df Model:}         &           5      & \\textbf{                     } &             \\\\\n",
       "\\textbf{Covariance Type:}  &    nonrobust     & \\textbf{                     } &             \\\\\n",
       "\\bottomrule\n",
       "\\end{tabular}\n",
       "\\begin{tabular}{lcccccc}\n",
       "               & \\textbf{coef} & \\textbf{std err} & \\textbf{t} & \\textbf{P$> |$t$|$} & \\textbf{[0.025} & \\textbf{0.975]}  \\\\\n",
       "\\midrule\n",
       "\\textbf{const} &       4.4860  &        0.013     &   356.926  &         0.000        &        4.461    &        4.511     \\\\\n",
       "\\textbf{x1}    &      -0.0339  &        0.013     &    -2.680  &         0.007        &       -0.059    &       -0.009     \\\\\n",
       "\\textbf{x2}    &       0.0551  &        0.013     &     4.113  &         0.000        &        0.029    &        0.081     \\\\\n",
       "\\textbf{x3}    &       0.0833  &        0.014     &     5.978  &         0.000        &        0.056    &        0.111     \\\\\n",
       "\\textbf{x4}    &       0.0593  &        0.015     &     3.980  &         0.000        &        0.030    &        0.088     \\\\\n",
       "\\textbf{x5}    &      -0.3571  &        0.016     &   -22.627  &         0.000        &       -0.388    &       -0.326     \\\\\n",
       "\\bottomrule\n",
       "\\end{tabular}\n",
       "\\begin{tabular}{lclc}\n",
       "\\textbf{Omnibus:}       & 73.627 & \\textbf{  Durbin-Watson:     } &    1.893  \\\\\n",
       "\\textbf{Prob(Omnibus):} &  0.000 & \\textbf{  Jarque-Bera (JB):  } &   95.862  \\\\\n",
       "\\textbf{Skew:}          &  0.482 & \\textbf{  Prob(JB):          } & 1.53e-21  \\\\\n",
       "\\textbf{Kurtosis:}      &  3.801 & \\textbf{  Cond. No.          } &     2.12  \\\\\n",
       "\\bottomrule\n",
       "\\end{tabular}\n",
       "%\\caption{OLS Regression Results}\n",
       "\\end{center}\n",
       "\n",
       "Notes: \\newline\n",
       " [1] Standard Errors assume that the covariance matrix of the errors is correctly specified."
      ],
      "text/plain": [
       "<class 'statsmodels.iolib.summary.Summary'>\n",
       "\"\"\"\n",
       "                            OLS Regression Results                            \n",
       "==============================================================================\n",
       "Dep. Variable:             margin_low   R-squared:                       0.477\n",
       "Model:                            OLS   Adj. R-squared:                  0.476\n",
       "Method:                 Least Squares   F-statistic:                     266.1\n",
       "Date:                Thu, 14 Mar 2024   Prob (F-statistic):          2.60e-202\n",
       "Time:                        15:52:02   Log-Likelihood:                -1001.3\n",
       "No. Observations:                1463   AIC:                             2015.\n",
       "Df Residuals:                    1457   BIC:                             2046.\n",
       "Df Model:                           5                                         \n",
       "Covariance Type:            nonrobust                                         \n",
       "==============================================================================\n",
       "                 coef    std err          t      P>|t|      [0.025      0.975]\n",
       "------------------------------------------------------------------------------\n",
       "const          4.4860      0.013    356.926      0.000       4.461       4.511\n",
       "x1            -0.0339      0.013     -2.680      0.007      -0.059      -0.009\n",
       "x2             0.0551      0.013      4.113      0.000       0.029       0.081\n",
       "x3             0.0833      0.014      5.978      0.000       0.056       0.111\n",
       "x4             0.0593      0.015      3.980      0.000       0.030       0.088\n",
       "x5            -0.3571      0.016    -22.627      0.000      -0.388      -0.326\n",
       "==============================================================================\n",
       "Omnibus:                       73.627   Durbin-Watson:                   1.893\n",
       "Prob(Omnibus):                  0.000   Jarque-Bera (JB):               95.862\n",
       "Skew:                           0.482   Prob(JB):                     1.53e-21\n",
       "Kurtosis:                       3.801   Cond. No.                         2.12\n",
       "==============================================================================\n",
       "\n",
       "Notes:\n",
       "[1] Standard Errors assume that the covariance matrix of the errors is correctly specified.\n",
       "\"\"\""
      ]
     },
     "execution_count": 51,
     "metadata": {},
     "output_type": "execute_result"
    }
   ],
   "source": [
    "model_2.summary()"
   ]
  },
  {
   "cell_type": "code",
   "execution_count": 52,
   "id": "eb99ad8c",
   "metadata": {},
   "outputs": [
    {
     "data": {
      "text/plain": [
       "const    0.000000e+00\n",
       "x1       7.443859e-03\n",
       "x2       4.132146e-05\n",
       "x3       2.836546e-09\n",
       "x4       7.233463e-05\n",
       "x5       2.183858e-97\n",
       "dtype: float64"
      ]
     },
     "execution_count": 52,
     "metadata": {},
     "output_type": "execute_result"
    }
   ],
   "source": [
    "model_2.pvalues"
   ]
  },
  {
   "cell_type": "code",
   "execution_count": 53,
   "id": "54a779ee",
   "metadata": {},
   "outputs": [
    {
     "data": {
      "text/plain": [
       "Index(['const', 'x1', 'x2', 'x3', 'x4', 'x5'], dtype='object')"
      ]
     },
     "execution_count": 53,
     "metadata": {},
     "output_type": "execute_result"
    }
   ],
   "source": [
    "#Pour déterminer quelles variables éliminer, nous devons examiner leurs valeurs p.\n",
    "significant_variables = model_2.pvalues[model_2.pvalues < 0.05].index\n",
    "significant_variables"
   ]
  },
  {
   "cell_type": "markdown",
   "id": "f5d1a4b3",
   "metadata": {},
   "source": [
    "Toutes les variables sont considérées comme significatives au seuil de valeur p actuel (0,05), donc on doit les conserver toutes."
   ]
  },
  {
   "cell_type": "code",
   "execution_count": 54,
   "id": "a6b1f04e",
   "metadata": {},
   "outputs": [
    {
     "data": {
      "text/plain": [
       "4.485967190704033"
      ]
     },
     "execution_count": 54,
     "metadata": {},
     "output_type": "execute_result"
    }
   ],
   "source": [
    "y_train.mean()"
   ]
  },
  {
   "cell_type": "code",
   "execution_count": 55,
   "id": "0f79bc1c",
   "metadata": {},
   "outputs": [],
   "source": [
    "predicted_values = model_2.predict(X_test_scaled_with_const)"
   ]
  },
  {
   "cell_type": "code",
   "execution_count": 56,
   "id": "ad1ed581",
   "metadata": {},
   "outputs": [
    {
     "data": {
      "text/plain": [
       "array([4.31852466, 4.39366755, 4.41045663, 4.31901423, 4.6506171 ,\n",
       "       3.80330831, 4.17973608, 4.12744154, 4.13503418, 4.16053851,\n",
       "       4.17742026, 3.76855378, 4.05876385, 4.29804709, 4.16060746,\n",
       "       4.09406453, 4.43984627, 4.47065037, 4.34164322, 4.08041448,\n",
       "       3.61430588, 4.37181147, 4.09362068, 4.24962896, 3.89374829,\n",
       "       3.74633265, 4.23741481, 4.71053287, 4.13778022, 5.05027715,\n",
       "       4.80214523, 5.067584  , 5.04756967, 4.77896717, 5.726993  ,\n",
       "       5.18586214, 5.14004269])"
      ]
     },
     "execution_count": 56,
     "metadata": {},
     "output_type": "execute_result"
    }
   ],
   "source": [
    "predicted_values"
   ]
  },
  {
   "cell_type": "code",
   "execution_count": 57,
   "id": "d5750c5b",
   "metadata": {},
   "outputs": [],
   "source": [
    "df_stat=train_df.copy()"
   ]
  },
  {
   "cell_type": "code",
   "execution_count": 58,
   "id": "7f6b632e",
   "metadata": {},
   "outputs": [],
   "source": [
    "df_stat.loc[df_stat['margin_low'].isnull(), 'margin_low'] = predicted_values"
   ]
  },
  {
   "cell_type": "code",
   "execution_count": 59,
   "id": "a578e15a",
   "metadata": {},
   "outputs": [],
   "source": [
    "#Verification avec visualisation\n",
    "plt.figure(figsize=(15,8))\n",
    "ax = train_df[\"margin_low\"].hist(bins=15, density=True, stacked=True, color='teal', alpha=0.6)\n",
    "train_df[\"margin_low\"].plot(kind='density', color='teal')\n",
    "ax = df_stat[\"margin_low\"].hist(bins=15, density=True, stacked=True, color='orange', alpha=0.5)\n",
    "df_stat[\"margin_low\"].plot(kind='density', color='orange')\n",
    "ax.legend(['Raw margin_low', 'Adjusted margin_low'])\n",
    "ax.set(xlabel='margin_low')\n",
    "plt.xlim(0,10)\n",
    "plt.show()"
   ]
  },
  {
   "cell_type": "markdown",
   "id": "97aa706c",
   "metadata": {},
   "source": [
    "### Tests statistiques\n",
    "\n",
    "Pour confirmer que la distribution, la moyenne et la variance de la colonne 'margin_low' restent les mêmes après l'imputation des valeurs nulles"
   ]
  },
  {
   "cell_type": "markdown",
   "id": "e2f778c4",
   "metadata": {},
   "source": [
    "Distribution test : On peut utiliser un test statistique non paramétrique comme le test de Kolmogorov-Smirnov pour comparer la distribution de la colonne originale avec celle de la colonne remplie.\n",
    "\n",
    "Test de moyenne : On peut effectuer un test t pour comparer les moyennes de la colonne originale et de la colonne remplie. Assurez-vous que vos données répondent aux hypothèses du test t (distribution normale ou échantillon suffisamment grand).\n",
    "\n",
    "Test de variance : On peut utiliser un test de F pour comparer les variances de la colonne originale et de la colonne remplie. Encore une fois, assurez-vous que vos données répondent aux hypothèses du test de F (distribution normale ou échantillon suffisamment grand)."
   ]
  },
  {
   "cell_type": "code",
   "execution_count": null,
   "id": "932b16de",
   "metadata": {},
   "outputs": [],
   "source": [
    "df_reg[\"margin_low\"].shape, y_train.shape"
   ]
  },
  {
   "cell_type": "code",
   "execution_count": null,
   "id": "6a613a66",
   "metadata": {},
   "outputs": [],
   "source": [
    "# Test de distribution\n",
    "def test_distribution(original, filled):\n",
    "    _, p_value = stats.ks_2samp(original, filled)\n",
    "    if p_value < 0.05:\n",
    "        print(p_value, \" -> La distribution n'est pas la même.\")\n",
    "    else:\n",
    "        print(p_value, \" -> La distribution est similaire.\")\n",
    "\n",
    "# Test de moyenne\n",
    "def test_moyenne(original, filled):\n",
    "    _, p_value = stats.ttest_ind(original, filled)\n",
    "    if p_value < 0.05:\n",
    "        print(p_value, \" -> Les moyennes ne sont pas les mêmes.\")\n",
    "    else:\n",
    "        print(p_value, \" -> Les moyennes sont similaires.\")\n",
    "\n",
    "# Test de variance\n",
    "def test_variance(original, filled):\n",
    "    _, p_value = stats.levene(original, filled)\n",
    "    if p_value < 0.05:\n",
    "        print(p_value, \" -> Les variances ne sont pas les mêmes.\")\n",
    "    else:\n",
    "        print(p_value, \" -> Les variances sont similaires.\")\n",
    "\n",
    "# Exécution des tests\n",
    "test_distribution(y_train, df_reg[\"margin_low\"])\n",
    "test_moyenne(y_train, df_reg[\"margin_low\"])\n",
    "test_variance(y_train, df_reg[\"margin_low\"])\n"
   ]
  },
  {
   "cell_type": "markdown",
   "id": "16d1c7d9",
   "metadata": {},
   "source": [
    "### Residuals"
   ]
  },
  {
   "cell_type": "code",
   "execution_count": null,
   "id": "c95d255a",
   "metadata": {},
   "outputs": [],
   "source": [
    "X_train_scaled.shape, y_train.shape"
   ]
  },
  {
   "cell_type": "code",
   "execution_count": null,
   "id": "010a762f",
   "metadata": {},
   "outputs": [],
   "source": [
    "# y_pred = model_1.predict(X_train_scaled)\n",
    "# residuals = y_train - y_pred\n",
    "residuals = model_2.resid\n",
    "residuals"
   ]
  },
  {
   "cell_type": "code",
   "execution_count": null,
   "id": "6179e898",
   "metadata": {},
   "outputs": [],
   "source": [
    "sns.scatterplot(x=train_df.margin_low, y=residuals)"
   ]
  },
  {
   "cell_type": "code",
   "execution_count": null,
   "id": "af9dbae3",
   "metadata": {},
   "outputs": [],
   "source": []
  },
  {
   "cell_type": "code",
   "execution_count": null,
   "id": "9e58d0a7",
   "metadata": {},
   "outputs": [],
   "source": [
    "sns.displot(data=residuals, kde=True)\n",
    "plt.show()"
   ]
  },
  {
   "cell_type": "markdown",
   "id": "b32a1b8c",
   "metadata": {},
   "source": [
    "\n",
    "Le test de Shapiro-Wilk est un test statistique utilisé pour déterminer si un échantillon de données suit une distribution normale (gaussienne). Il est basé sur la comparaison entre les moments observés des données et ceux attendus sous l'hypothèse de normalité."
   ]
  },
  {
   "cell_type": "code",
   "execution_count": null,
   "id": "de02ffec",
   "metadata": {},
   "outputs": [],
   "source": [
    "# Calculer la moyenne et la variance\n",
    "mean = 0\n",
    "variance = np.var(residuals)\n",
    "\n",
    "# Créer une distribution normale\n",
    "normal_dist = stats.norm(loc=0, scale=1)\n",
    "# Créer une distribution gaussienne\n",
    "gaussian_dist = stats.norm(loc=mean, scale=np.sqrt(variance))\n",
    "\n",
    "# Visualiser les données et la distribution gaussienne\n",
    "plt.hist(residuals, bins=30, density=True, alpha=0.5, label='Données observées')\n",
    "x = np.linspace(np.min(residuals), np.max(residuals), 100)\n",
    "plt.plot(x, gaussian_dist.pdf(x), 'r', label='Distribution gaussienne')\n",
    "plt.plot(x, normal_dist.pdf(x), 'g', label='Distribution normale')\n",
    "plt.legend()\n",
    "plt.show()\n",
    "\n",
    "# Tester l'ajustement\n",
    "kstest_result = stats.kstest(residuals, 'norm', args=(mean, np.sqrt(variance)))\n",
    "shapiro_result = stats.shapiro(residuals)\n",
    "\n",
    "print(\"Test de Kolmogorov-Smirnov:\")\n",
    "print(\"Statistique de test:\", kstest_result.statistic)\n",
    "p_value = kstest_result.pvalue\n",
    "print(\"P-value:\", p_value)\n",
    "if p_value < 0.05:\n",
    "    print(p_value, \" -> Les résidus ne suivent pas une distribution normale\")\n",
    "else:\n",
    "    print(p_value, \" -> Les résidus suivent une distribution normale\")\n",
    "print(\"\\nTest de Shapiro-Wilk:\")\n",
    "print(\"Statistique de test:\", shapiro_result.statistic)\n",
    "p_value = shapiro_result.pvalue\n",
    "print(\"P-value:\", p_value)\n",
    "if p_value < 0.05:\n",
    "    print(p_value, \" -> Les résidus ne suivent pas une distribution normale\")\n",
    "else:\n",
    "    print(p_value, \" -> Les résidus suivent une distribution normale\")\n"
   ]
  },
  {
   "cell_type": "markdown",
   "id": "1e69d87e",
   "metadata": {},
   "source": [
    "Pour évaluer l'homoscédasticité des résidus, nous utilisons le test statistique de Breusch-Pagan. Ce test compare la variance des résidus avec une ou plusieurs variables indépendantes pour déterminer s'ils présentent une homoscédasticité. En d'autres termes, il examine l'uniformité de la dispersion des résidus sur toute la plage des valeurs prises par les variables indépendantes. <br>L'hétéroscédasticité, qui est le contraire de l'homoscédasticité, se manifeste lorsque la variance des résidus varie de manière non constante à travers les valeurs prédites de la variable dépendante."
   ]
  },
  {
   "cell_type": "code",
   "execution_count": null,
   "id": "2c713231",
   "metadata": {},
   "outputs": [],
   "source": [
    "# Test de Breusch-Pagan\n",
    "test_bp = het_breuschpagan(residuals, X_train_scaled_with_const)\n",
    "print(\"Test de Breusch-Pagan:\")\n",
    "print(\"Statistique de test:\", test_bp[0])\n",
    "p_value = test_bp[1]\n",
    "print(\"P-value:\", p_value)\n",
    "if p_value < 0.05:\n",
    "    print(p_value, \" -> Les résidus présentent une hétéroscédasticité\")\n",
    "else:\n",
    "    print(p_value, \" -> Les résidus présentent une homoscédasticité\")"
   ]
  },
  {
   "cell_type": "markdown",
   "id": "6098a641",
   "metadata": {},
   "source": [
    "La multicollinéarité: C'est une condition dans laquelle deux ou plus de deux variables indépendantes (ou prédictives) dans un modèle de régression sont fortement corrélées entre elles. En d'autres termes, il existe une relation linéaire élevée entre au moins deux des variables indépendantes.<br>plusieurs méthodes pour vérifier la multicollinéarité dans un modèle de régression,parmi les quelles:<br>\n",
    "Variance Inflation Factor (VIF) : Le VIF mesure l'importance de la multicollinéarité dans une régression. Un VIF élevé (généralement supérieur à 10) indique une multicollinéarité problématique.<br>Les variable avec un vif relativement faible contribue de manière unique à expliquer la variation dans la variable dépendante, ce qui est souhaitable dans de nombreux modèles statistiques."
   ]
  },
  {
   "cell_type": "code",
   "execution_count": null,
   "metadata": {},
   "outputs": [],
   "source": [
    "vif_data = pd.DataFrame()\n",
    "vif_data[\"feature\"] = X_train.columns\n",
    "vif_data[\"VIF\"] = [variance_inflation_factor(X_train_scaled, i) for i in range(X_train_scaled.shape[1])]\n",
    "print(vif_data, '\\n')\n",
    "\n",
    "seuil = 10 # Un seuil de 10 est couramment utilisé\n",
    "for index, row in vif_data.iterrows():\n",
    "    feature = row['feature']\n",
    "    vif = row['VIF']\n",
    "    if vif > seuil:\n",
    "        print(f\"La variable '{feature}' a un VIF élevé de {vif:.2f}, ce qui indique une forte corrélation avec d'autres variables explicatives.\")\n",
    "    else:\n",
    "        print(f\"La variable '{feature}' a un VIF de {vif:.2f}, ce qui indique qu'elle est indépendante des autres variables explicatives.\")"
   ]
  },
  {
   "cell_type": "markdown",
   "id": "fff8d33d",
   "metadata": {},
   "source": [
    "***Exploration des données***"
   ]
  },
  {
   "cell_type": "code",
   "execution_count": null,
   "id": "9e7d8f98",
   "metadata": {},
   "outputs": [],
   "source": [
    "sns.pairplot(df_reg, hue='target', corner=True)\n",
    "plt.show()"
   ]
  },
  {
   "cell_type": "code",
   "execution_count": null,
   "id": "21a09738",
   "metadata": {},
   "outputs": [],
   "source": [
    "correlation_matrix = df_reg.corr()\n",
    "masque=np.triu(correlation_matrix)\n",
    "sns.heatmap(correlation_matrix, annot=True, cmap='coolwarm', fmt=\".2f\", mask=masque, vmin=-1, vmax=1)\n",
    "plt.show()"
   ]
  },
  {
   "cell_type": "markdown",
   "id": "619e7be7",
   "metadata": {},
   "source": [
    "la target est tres correlée avec la longeur des billets"
   ]
  },
  {
   "cell_type": "markdown",
   "id": "e1764bc5",
   "metadata": {},
   "source": [
    "## 2.3.2 Detection des outliers"
   ]
  },
  {
   "cell_type": "code",
   "execution_count": null,
   "id": "4ad24542",
   "metadata": {},
   "outputs": [],
   "source": [
    "plt.figure(figsize=(20, 20))\n",
    "sns.set_theme(style=\"whitegrid\")\n",
    "\n",
    "plt.subplot(321)\n",
    "sns.boxplot(data=df_reg, x='diagonal')\n",
    "\n",
    "plt.subplot(322)\n",
    "sns.boxplot(data=df_reg, x='height_left')\n",
    "\n",
    "plt.subplot(323)\n",
    "sns.boxplot(data=df_reg, x='height_right')\n",
    "\n",
    "plt.subplot(324)\n",
    "sns.boxplot(data=df_reg, x='margin_low')\n",
    "\n",
    "plt.subplot(325)\n",
    "sns.boxplot(data=df_reg, x='margin_up')\n",
    "\n",
    "plt.subplot(326)\n",
    "sns.boxplot(data=df_reg, x='length')\n",
    "\n",
    "plt.show()"
   ]
  },
  {
   "cell_type": "markdown",
   "id": "df2ec04b",
   "metadata": {},
   "source": [
    "Les boxplots révèlent la présence d'outliers dans plusieurs features. <br> Cela suggère que ces valeurs pourraient être liées à des faux billets, caractérisés par des dimensions non conformes, ou bien à des billets de grande valeur, comme les billets de 500€, ou de petites valeurs comme celles de 5€. <br> Ainsi, il est prévu de conserver les outliers afin de poursuivre l'analyse."
   ]
  },
  {
   "cell_type": "markdown",
   "id": "8f3b2f93",
   "metadata": {},
   "source": [
    "## 2.3.1.1 Data mining"
   ]
  },
  {
   "cell_type": "markdown",
   "id": "da073f7c",
   "metadata": {},
   "source": [
    "## 2.4 Preparation des données"
   ]
  },
  {
   "cell_type": "markdown",
   "id": "0245bda3",
   "metadata": {},
   "source": [
    "## Choix du modéle"
   ]
  },
  {
   "cell_type": "markdown",
   "id": "38693e62",
   "metadata": {},
   "source": [
    "Type de données categorielles\n"
   ]
  },
  {
   "cell_type": "markdown",
   "id": "bcb0f1af",
   "metadata": {},
   "source": [
    "2.5 Modelisation avec split"
   ]
  },
  {
   "cell_type": "markdown",
   "id": "54dbace0",
   "metadata": {},
   "source": [
    "2.5.1 Dummy clussifier"
   ]
  },
  {
   "cell_type": "code",
   "execution_count": null,
   "id": "e88d115c",
   "metadata": {},
   "outputs": [],
   "source": [
    "X=df_reg.drop(columns='target')\n",
    "y=df_reg['target']"
   ]
  },
  {
   "cell_type": "code",
   "execution_count": null,
   "id": "db0618ac",
   "metadata": {},
   "outputs": [],
   "source": [
    "train_X, test_X, train_y, test_y = train_test_split (X, y, test_size=0.3, random_state=42)"
   ]
  },
  {
   "cell_type": "code",
   "execution_count": null,
   "id": "31c78927",
   "metadata": {},
   "outputs": [],
   "source": [
    "estimator_1= DummyClassifier(strategy=\"most_frequent\")\n",
    "estimator_1.fit(train_X, train_y)"
   ]
  },
  {
   "cell_type": "code",
   "execution_count": null,
   "id": "65f246fd",
   "metadata": {},
   "outputs": [],
   "source": [
    "y_pred_1 = estimator_1.predict(test_X)\n",
    "y_pred_1[:5]"
   ]
  },
  {
   "cell_type": "code",
   "execution_count": null,
   "id": "fc5290ed",
   "metadata": {},
   "outputs": [],
   "source": [
    "pd.Series(y_pred_1).value_counts()"
   ]
  },
  {
   "cell_type": "code",
   "execution_count": null,
   "id": "fef019f2",
   "metadata": {},
   "outputs": [],
   "source": [
    "test_y.value_counts(normalize=True)"
   ]
  },
  {
   "cell_type": "code",
   "execution_count": null,
   "id": "ad7cd266",
   "metadata": {},
   "outputs": [],
   "source": [
    "test_y.value_counts()"
   ]
  },
  {
   "cell_type": "code",
   "execution_count": null,
   "id": "8e10c54b",
   "metadata": {},
   "outputs": [],
   "source": [
    "train_X.head()"
   ]
  },
  {
   "cell_type": "code",
   "execution_count": null,
   "id": "9dcdcc05",
   "metadata": {},
   "outputs": [],
   "source": [
    "tr_score= estimator_1.score(train_X, train_y)\n",
    "te_score= estimator_1.score(test_X, test_y)\n",
    "print(f\"le score de train est {tr_score}, et de test est {te_score}\")"
   ]
  },
  {
   "cell_type": "code",
   "execution_count": null,
   "id": "768a1cbf",
   "metadata": {},
   "outputs": [],
   "source": [
    "y_pred_1 = estimator_1.predict(test_X)\n",
    "y_pred_1[:5]"
   ]
  },
  {
   "cell_type": "code",
   "execution_count": null,
   "id": "e1461602",
   "metadata": {},
   "outputs": [],
   "source": [
    "test_y.values"
   ]
  },
  {
   "cell_type": "code",
   "execution_count": null,
   "id": "1ed29d3f",
   "metadata": {},
   "outputs": [],
   "source": [
    "1 - abs(y_pred_1 - test_y.values).mean()"
   ]
  },
  {
   "cell_type": "code",
   "execution_count": null,
   "id": "5a5ffb14",
   "metadata": {},
   "outputs": [],
   "source": [
    "mat=confusion_matrix(test_y, y_pred_1, labels=estimator_1.classes_)\n",
    "mat"
   ]
  },
  {
   "cell_type": "code",
   "execution_count": null,
   "id": "7ae9bcb4",
   "metadata": {},
   "outputs": [],
   "source": [
    "test_y.value_counts()"
   ]
  },
  {
   "cell_type": "code",
   "execution_count": null,
   "id": "9036ad75",
   "metadata": {},
   "outputs": [],
   "source": [
    "from sklearn.metrics import ConfusionMatrixDisplay, confusion_matrix\n",
    "disp = ConfusionMatrixDisplay(confusion_matrix=mat, display_labels= estimator_1.classes_)\n",
    "disp.plot()\n",
    "plt.show()"
   ]
  },
  {
   "cell_type": "markdown",
   "id": "ac22e0df",
   "metadata": {},
   "source": [
    "## 2. Regression logistique"
   ]
  },
  {
   "cell_type": "code",
   "execution_count": null,
   "id": "32e02b3d",
   "metadata": {},
   "outputs": [],
   "source": [
    "estimator_2 = LogisticRegression(solver='liblinear') #small dataset"
   ]
  },
  {
   "cell_type": "code",
   "execution_count": null,
   "id": "bbcf3f2f",
   "metadata": {},
   "outputs": [],
   "source": [
    "estimator_2.fit(train_X, train_y)"
   ]
  },
  {
   "cell_type": "code",
   "execution_count": null,
   "id": "76be4925",
   "metadata": {},
   "outputs": [],
   "source": [
    "y_pred_2=estimator_2.predict(test_X)\n",
    "y_pred_2[:5]"
   ]
  },
  {
   "cell_type": "code",
   "execution_count": null,
   "id": "3e9e0b31",
   "metadata": {},
   "outputs": [],
   "source": [
    "y_prob = estimator_2.predict_proba(test_X).round(2) #La probabilité de l'appartenance à tel ou tel classe\n",
    "y_prob[:5]"
   ]
  },
  {
   "cell_type": "code",
   "execution_count": null,
   "id": "1bb31731",
   "metadata": {},
   "outputs": [],
   "source": [
    "\n",
    "conf=confusion_matrix(test_y, y_pred_2, labels=estimator_2.classes_)\n",
    "conf"
   ]
  },
  {
   "cell_type": "code",
   "execution_count": null,
   "id": "2fde67ac",
   "metadata": {},
   "outputs": [],
   "source": [
    "\n",
    "disp = ConfusionMatrixDisplay(confusion_matrix=conf, display_labels= estimator_2.classes_)\n",
    "disp.plot()\n",
    "plt.show()"
   ]
  },
  {
   "cell_type": "markdown",
   "id": "5da523c0",
   "metadata": {},
   "source": [
    "## SVM"
   ]
  },
  {
   "cell_type": "code",
   "execution_count": null,
   "id": "e079ed51",
   "metadata": {},
   "outputs": [],
   "source": [
    "estimator_3 = LinearSVC()"
   ]
  },
  {
   "cell_type": "code",
   "execution_count": null,
   "id": "734b053d",
   "metadata": {},
   "outputs": [],
   "source": [
    "estimator_3.fit(train_X, train_y)"
   ]
  },
  {
   "cell_type": "code",
   "execution_count": null,
   "id": "7be5e642",
   "metadata": {},
   "outputs": [],
   "source": [
    "y_pred_3=estimator_3.predict(test_X)\n",
    "y_pred_3[:5]"
   ]
  },
  {
   "cell_type": "code",
   "execution_count": null,
   "id": "71119699",
   "metadata": {},
   "outputs": [],
   "source": [
    "conf=confusion_matrix(test_y, y_pred_3, labels=estimator_3.classes_)\n",
    "conf"
   ]
  },
  {
   "cell_type": "code",
   "execution_count": null,
   "id": "2b36ac7d",
   "metadata": {},
   "outputs": [],
   "source": [
    "disp = ConfusionMatrixDisplay(confusion_matrix=conf, display_labels= estimator_3.classes_)\n",
    "disp.plot()\n",
    "plt.show()"
   ]
  },
  {
   "cell_type": "code",
   "execution_count": null,
   "id": "bf327590",
   "metadata": {},
   "outputs": [],
   "source": []
  },
  {
   "cell_type": "markdown",
   "id": "8de422c9",
   "metadata": {},
   "source": [
    "Modelisation avec cross_validation"
   ]
  },
  {
   "cell_type": "code",
   "execution_count": null,
   "id": "f4da4721",
   "metadata": {},
   "outputs": [],
   "source": [
    "X=df_reg.drop(columns=['target'])\n",
    "y=df_reg['target']"
   ]
  },
  {
   "cell_type": "code",
   "execution_count": null,
   "id": "314e7b6d",
   "metadata": {},
   "outputs": [],
   "source": [
    "# Création d'une instance de StandardScaler\n",
    "scaler_2 = StandardScaler()\n",
    "# Adapter le scaler aux données\n",
    "scaler_2.fit(X)\n",
    "\n",
    "# Standardiser les données\n",
    "X_scaled = scaler_2.transform(X)\n",
    "X_scaled[:5]"
   ]
  },
  {
   "cell_type": "code",
   "execution_count": null,
   "id": "729bf71a",
   "metadata": {},
   "outputs": [],
   "source": [
    "#Choix du modele\n",
    "Logistic_Regression = LogisticRegression()\n",
    "svc = SVC()\n",
    "Majority_Model = DummyClassifier(strategy='most_frequent')\n",
    "\n",
    "# Initialiser les modèles\n",
    "models = {\n",
    "    'Logistic Regression': Logistic_Regression,\n",
    "    'SVC': svc,\n",
    "    'Majority Model': Majority_Model\n",
    "}\n",
    "\n",
    "# La validation croisée et les scores de précision pour chaque modèle\n",
    "results = {}\n",
    "\n",
    "for model_name, model in models.items():\n",
    "    scores = cross_val_score(model, X_scaled, y, cv=5, scoring='accuracy')\n",
    "    results[model_name] = {'mean_accuracy': scores.mean(), 'std_accuracy': scores.std()}\n",
    "\n",
    "# Affichage des résultats\n",
    "for model_name, result in results.items():\n",
    "    print(f\"Model: {model_name}\")\n",
    "    print(f\"Mean Accuracy: {result['mean_accuracy']}\")\n",
    "    print(f\"Standard deviation of Accuracy: {result['std_accuracy']}\\n\")\n"
   ]
  },
  {
   "cell_type": "code",
   "execution_count": null,
   "id": "f0dfd0bd",
   "metadata": {},
   "outputs": [],
   "source": [
    "# Évaluation de la performance du modèle\n",
    "\n",
    "fig, ax = plt.subplots(nrows=1, ncols=3, figsize=(10, 6), sharey=True)\n",
    "\n",
    "common_params = {\n",
    "    \"X\": X_scaled,\n",
    "    \"y\": y,\n",
    "    \"train_sizes\": np.linspace(0.1, 1.0, 5),\n",
    "    \"cv\": ShuffleSplit(n_splits=50, test_size=0.2, random_state=0),\n",
    "    \"score_type\": \"both\",\n",
    "    \"n_jobs\": 4,\n",
    "    \"line_kw\": {\"marker\": \"o\"},\n",
    "    \"std_display_style\": \"fill_between\",\n",
    "    \"score_name\": \"Accuracy\",\n",
    "}\n",
    "\n",
    "for ax_idx, estimator in enumerate([Logistic_Regression, svc, Majority_Model]):\n",
    "    LearningCurveDisplay.from_estimator(estimator, **common_params, ax=ax[ax_idx])\n",
    "    handles, label = ax[ax_idx].get_legend_handles_labels()\n",
    "    ax[ax_idx].legend(handles[:2], [\"Training Score\", \"Test Score\"])\n",
    "    ax[ax_idx].set_title(f\"Learning Curve for {estimator.__class__.__name__}\")"
   ]
  },
  {
   "cell_type": "markdown",
   "id": "af05ff09",
   "metadata": {},
   "source": [
    "En observant les courbes d'apprentissage, on peut déterminer que le modèle DummyClassifier montre un sous-apprentissage (underfitting) tandis que les deux modèles Logistic Regression et SVC sont comparables et montrent de bons résultats. <br> On a choisi d'optimiser le modele de Logistic Regression."
   ]
  },
  {
   "cell_type": "code",
   "execution_count": null,
   "id": "fd19cc01",
   "metadata": {},
   "outputs": [],
   "source": [
    "#Optimisation des hyperparamètres\n",
    "\n",
    "# Définir la grille des hyperparamètres à rechercher\n",
    "param_grid = {\n",
    "    'C': [0.001, 0.01, 0.1, 1, 10, 100],\n",
    "    'penalty': ['l1', 'l2'],\n",
    "    'solver': ['liblinear', 'saga']\n",
    "}\n",
    "\n",
    "# Initialiser LogisticRegression\n",
    "logistic_regression = LogisticRegression()\n",
    "\n",
    "# Créer l'objet GridSearchCV\n",
    "grid_search = GridSearchCV(logistic_regression, param_grid, cv=5, scoring='accuracy', n_jobs=4, verbose=1, return_train_score=True)\n",
    "\n",
    "# Exécuter la recherche sur grille sur les données d'entraînement\n",
    "grid_search.fit(X_scaled, y)\n",
    "\n",
    "# Afficher les meilleurs hyperparamètres et le score associé\n",
    "print(\"Best Parameters:\", grid_search.best_params_)\n",
    "print(\"Best Score:\", grid_search.best_score_)"
   ]
  },
  {
   "cell_type": "code",
   "execution_count": null,
   "id": "51dc5156",
   "metadata": {},
   "outputs": [],
   "source": [
    "def resultize(grid_search) : \n",
    "    \"\"\"build a DataFrame from the results of a GridSearchCV\"\"\"\n",
    "\n",
    "    res = pd.DataFrame(grid_search.cv_results_)\n",
    "    cols = [i for i in res.columns if 'split' not in i]\n",
    "    res = res[cols]\n",
    "    res = res.round(2).iloc[:, 4:].sort_values('mean_test_score', ascending=False)\n",
    "\n",
    "    return res"
   ]
  },
  {
   "cell_type": "code",
   "execution_count": null,
   "id": "c365f023",
   "metadata": {},
   "outputs": [],
   "source": [
    "resultize(grid_search).head(10)"
   ]
  },
  {
   "cell_type": "code",
   "execution_count": null,
   "id": "dfc4b2bb",
   "metadata": {},
   "outputs": [],
   "source": [
    "#Choisir le bon modele\n",
    "best_model = grid_search.best_estimator_"
   ]
  },
  {
   "cell_type": "code",
   "execution_count": null,
   "id": "e35e66bf",
   "metadata": {},
   "outputs": [],
   "source": [
    "#matrice du confusion\n",
    "y_pred = best_model.predict(X_scaled)\n",
    "mat=confusion_matrix(y, y_pred)\n",
    "mat"
   ]
  },
  {
   "cell_type": "code",
   "execution_count": null,
   "id": "24b38640",
   "metadata": {},
   "outputs": [],
   "source": [
    "pd.DataFrame({\"y_true\" : y, \"y_pred\" : y_pred})"
   ]
  },
  {
   "cell_type": "code",
   "execution_count": null,
   "id": "730c077c",
   "metadata": {},
   "outputs": [],
   "source": [
    "sns.heatmap(mat, annot=True, cmap='coolwarm', fmt='d', cbar=False, vmax=1000, vmin=-1000)"
   ]
  },
  {
   "cell_type": "code",
   "execution_count": null,
   "id": "f50349ba",
   "metadata": {},
   "outputs": [],
   "source": [
    "disp = ConfusionMatrixDisplay(confusion_matrix=mat)\n",
    "disp.plot()\n",
    "plt.show()"
   ]
  },
  {
   "cell_type": "markdown",
   "id": "2c316c23",
   "metadata": {},
   "source": [
    "On voit que nous avons 10 faux négatifs (10 faux billets classés comme vrais) et 4 faux positifs (4 vrais billets classés comme faux). <br> Nous allons changer la métrique de scoring afin d'avoir moins de faux négatifs."
   ]
  },
  {
   "cell_type": "markdown",
   "id": "fc55aac6",
   "metadata": {},
   "source": [
    "### Choix metric"
   ]
  },
  {
   "cell_type": "code",
   "execution_count": null,
   "id": "f8b650a0",
   "metadata": {},
   "outputs": [],
   "source": [
    "for sco in ['accuracy', 'recall', 'f1']: # , 'roc_auc', 'average_precision'\n",
    "    print(sco)\n",
    "    # Définir la grille des hyperparamètres à rechercher\n",
    "    param_grid = {\n",
    "        'C': [0.001, 0.01, 0.1, 1, 10, 100],\n",
    "        'penalty': ['l1', 'l2'],\n",
    "        'solver': ['liblinear', 'saga']\n",
    "    }\n",
    "\n",
    "    # Initialiser LogisticRegression\n",
    "    logistic_regression = LogisticRegression()\n",
    "\n",
    "    # Créer l'objet GridSearchCV\n",
    "    grid_search = GridSearchCV(logistic_regression, param_grid, cv=5, scoring=sco)\n",
    "\n",
    "    # Exécuter la recherche sur grille sur les données d'entraînement\n",
    "    grid_search.fit(X_scaled, y)\n",
    "\n",
    "    # Afficher les meilleurs hyperparamètres et le score associé\n",
    "    print(\"Best Parameters:\", grid_search.best_params_)\n",
    "    print(\"Best Score:\", grid_search.best_score_)\n",
    "\n",
    "    best_model = grid_search.best_estimator_\n",
    "\n",
    "    #matrice de confusion\n",
    "    y_pred = best_model.predict(X_scaled)\n",
    "    mat=confusion_matrix(y, y_pred)\n",
    "    print(mat)\n",
    "\n",
    "    disp = ConfusionMatrixDisplay(confusion_matrix=mat)\n",
    "    disp.plot()\n",
    "    plt.show()\n"
   ]
  },
  {
   "cell_type": "markdown",
   "id": "4bcaab0f",
   "metadata": {},
   "source": [
    "on choisit la metric f1 qui a le meilleur compromis et le moins de faux négatifs"
   ]
  },
  {
   "cell_type": "markdown",
   "id": "568b1a0b",
   "metadata": {},
   "source": [
    "### Choix du seuil de décision"
   ]
  },
  {
   "cell_type": "code",
   "execution_count": null,
   "id": "e56e5e11",
   "metadata": {},
   "outputs": [],
   "source": [
    "# Définir la grille des hyperparamètres à rechercher\n",
    "param_grid = {\n",
    "    'C': [0.001, 0.01, 0.1, 1, 10, 100],\n",
    "    'penalty': ['l1', 'l2'],\n",
    "    'solver': ['liblinear', 'saga']\n",
    "}\n",
    "\n",
    "# Initialiser LogisticRegression\n",
    "logistic_regression = LogisticRegression()\n",
    "\n",
    "# Créer l'objet GridSearchCV\n",
    "grid_search = GridSearchCV(logistic_regression, param_grid, cv=5, scoring='f1')\n",
    "\n",
    "# Exécuter la recherche sur grille sur les données d'entraînement\n",
    "grid_search.fit(X_scaled, y)\n",
    "\n",
    "# Afficher les meilleurs hyperparamètres et le score associé\n",
    "print(\"Best Parameters:\", grid_search.best_params_)\n",
    "print(\"Best Score:\", grid_search.best_score_)\n",
    "\n",
    "best_model = grid_search.best_estimator_\n",
    "\n",
    "#matrice de confusion\n",
    "y_pred = best_model.predict(X_scaled)\n",
    "mat=confusion_matrix(y, y_pred)\n",
    "print(mat)\n",
    "\n",
    "disp = ConfusionMatrixDisplay(confusion_matrix=mat)\n",
    "disp.plot()\n",
    "plt.show()\n"
   ]
  },
  {
   "cell_type": "code",
   "execution_count": null,
   "id": "889b11ca",
   "metadata": {},
   "outputs": [],
   "source": [
    "y_proba = best_model.predict_proba(X_scaled)\n",
    "nouveau_seuil = 0.25\n",
    "y_pred = (y_proba[:, 1] > nouveau_seuil).astype(int) #Faux billet si la probabilité est supérieure au seuil\n",
    "mat=confusion_matrix(y, y_pred)\n",
    "print(mat)\n",
    "\n",
    "disp = ConfusionMatrixDisplay(confusion_matrix=mat)\n",
    "disp.plot()\n",
    "plt.show()"
   ]
  },
  {
   "cell_type": "markdown",
   "id": "3c95168f",
   "metadata": {},
   "source": [
    "0.25 est le seuil qui a le meilleur compromis"
   ]
  },
  {
   "cell_type": "markdown",
   "id": "8da7423a",
   "metadata": {},
   "source": []
  }
 ],
 "metadata": {
  "kernelspec": {
   "display_name": "Python 3 (ipykernel)",
   "language": "python",
   "name": "python3"
  },
  "language_info": {
   "codemirror_mode": {
    "name": "ipython",
    "version": 3
   },
   "file_extension": ".py",
   "mimetype": "text/x-python",
   "name": "python",
   "nbconvert_exporter": "python",
   "pygments_lexer": "ipython3",
   "version": "3.10.12"
  }
 },
 "nbformat": 4,
 "nbformat_minor": 5
}
