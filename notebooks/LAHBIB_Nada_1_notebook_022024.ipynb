{
 "cells": [
  {
   "cell_type": "markdown",
   "id": "56ddb36a",
   "metadata": {},
   "source": [
    "### Détectection des faux billets avec Python"
   ]
  },
  {
   "cell_type": "markdown",
   "id": "af22a378",
   "metadata": {},
   "source": [
    "## 1. Preliminary"
   ]
  },
  {
   "cell_type": "markdown",
   "id": "7ba70cb1",
   "metadata": {},
   "source": [
    "     *** Contexte ***"
   ]
  },
  {
   "cell_type": "markdown",
   "id": "a6dbce98",
   "metadata": {},
   "source": [
    "Identification des contrefaçons des billets en euros"
   ]
  },
  {
   "cell_type": "markdown",
   "id": "1bee9320",
   "metadata": {},
   "source": [
    "Les billets d'euro ont des valeurs nominales de 5, 10, 20, 50, 100, 200 et 500 euros. "
   ]
  },
  {
   "cell_type": "code",
   "execution_count": 20,
   "id": "40fe34a6",
   "metadata": {},
   "outputs": [
    {
     "name": "stdout",
     "output_type": "stream",
     "text": [
      "Python 3.9.13\n"
     ]
    }
   ],
   "source": [
    "!python -V\n"
   ]
  },
  {
   "cell_type": "markdown",
   "id": "586d6e3a",
   "metadata": {},
   "source": [
    "## 1.1 Install"
   ]
  },
  {
   "cell_type": "code",
   "execution_count": 21,
   "id": "e45e95ea",
   "metadata": {},
   "outputs": [],
   "source": [
    "#"
   ]
  },
  {
   "cell_type": "markdown",
   "id": "3d8419f9",
   "metadata": {},
   "source": [
    "# 1.2 Importation"
   ]
  },
  {
   "cell_type": "markdown",
   "id": "5601866a",
   "metadata": {},
   "source": [
    "## 1.2.1 Importation des librairies"
   ]
  },
  {
   "cell_type": "code",
   "execution_count": 22,
   "id": "0c8ad7fa",
   "metadata": {},
   "outputs": [],
   "source": [
    "#builtin\n",
    "import os"
   ]
  },
  {
   "cell_type": "code",
   "execution_count": 23,
   "id": "7f6e4e9e",
   "metadata": {},
   "outputs": [],
   "source": [
    "\n",
    "#data\n",
    "import pandas as pd\n",
    "import numpy as np"
   ]
  },
  {
   "cell_type": "code",
   "execution_count": 24,
   "id": "7ee5f8bc",
   "metadata": {},
   "outputs": [],
   "source": [
    "\n",
    "#visualisation \n",
    "import matplotlib.pyplot as plt\n",
    "import seaborn as sns\n",
    "import plotly.express as px\n",
    "import missingno as msno\n",
    "%matplotlib inline"
   ]
  },
  {
   "cell_type": "code",
   "execution_count": 25,
   "id": "8175f558",
   "metadata": {},
   "outputs": [],
   "source": [
    "#machine learning\n",
    "from sklearn.linear_model import LinearRegression"
   ]
  },
  {
   "cell_type": "markdown",
   "id": "4ad0f362",
   "metadata": {},
   "source": [
    "## 2.1 chargement des fichiers"
   ]
  },
  {
   "cell_type": "code",
   "execution_count": 26,
   "id": "d53e5a32",
   "metadata": {},
   "outputs": [],
   "source": [
    "input_folder = r\"C:\\Users\\Nada\\Desktop\\OpenClassRooms\\Projet 10\\Data\\0 Source\"\n",
    "# Read CSV train data file into DataFrame\n",
    "train_df= pd.read_csv(os.path.join(input_folder, \"billets.csv\"), dtype=float, sep=';')\n",
    "# Read CSV test data file into DataFrame\n",
    "test_df = pd.read_csv(os.path.join(input_folder, \"billets_production.csv\"), sep=',')\n"
   ]
  },
  {
   "cell_type": "markdown",
   "id": "eefccca5",
   "metadata": {},
   "source": [
    "## 2. Prétraitement des données"
   ]
  },
  {
   "cell_type": "markdown",
   "id": "42f349d6",
   "metadata": {},
   "source": [
    "## 2.2 Exploration"
   ]
  },
  {
   "cell_type": "code",
   "execution_count": 27,
   "id": "6f07befc",
   "metadata": {},
   "outputs": [
    {
     "data": {
      "text/html": [
       "<div>\n",
       "<style scoped>\n",
       "    .dataframe tbody tr th:only-of-type {\n",
       "        vertical-align: middle;\n",
       "    }\n",
       "\n",
       "    .dataframe tbody tr th {\n",
       "        vertical-align: top;\n",
       "    }\n",
       "\n",
       "    .dataframe thead th {\n",
       "        text-align: right;\n",
       "    }\n",
       "</style>\n",
       "<table border=\"1\" class=\"dataframe\">\n",
       "  <thead>\n",
       "    <tr style=\"text-align: right;\">\n",
       "      <th></th>\n",
       "      <th>is_genuine</th>\n",
       "      <th>diagonal</th>\n",
       "      <th>height_left</th>\n",
       "      <th>height_right</th>\n",
       "      <th>margin_low</th>\n",
       "      <th>margin_up</th>\n",
       "      <th>length</th>\n",
       "    </tr>\n",
       "  </thead>\n",
       "  <tbody>\n",
       "    <tr>\n",
       "      <th>0</th>\n",
       "      <td>1.0</td>\n",
       "      <td>171.81</td>\n",
       "      <td>104.86</td>\n",
       "      <td>104.95</td>\n",
       "      <td>4.52</td>\n",
       "      <td>2.89</td>\n",
       "      <td>112.83</td>\n",
       "    </tr>\n",
       "    <tr>\n",
       "      <th>1</th>\n",
       "      <td>1.0</td>\n",
       "      <td>171.46</td>\n",
       "      <td>103.36</td>\n",
       "      <td>103.66</td>\n",
       "      <td>3.77</td>\n",
       "      <td>2.99</td>\n",
       "      <td>113.09</td>\n",
       "    </tr>\n",
       "    <tr>\n",
       "      <th>2</th>\n",
       "      <td>1.0</td>\n",
       "      <td>172.69</td>\n",
       "      <td>104.48</td>\n",
       "      <td>103.50</td>\n",
       "      <td>4.40</td>\n",
       "      <td>2.94</td>\n",
       "      <td>113.16</td>\n",
       "    </tr>\n",
       "    <tr>\n",
       "      <th>3</th>\n",
       "      <td>1.0</td>\n",
       "      <td>171.36</td>\n",
       "      <td>103.91</td>\n",
       "      <td>103.94</td>\n",
       "      <td>3.62</td>\n",
       "      <td>3.01</td>\n",
       "      <td>113.51</td>\n",
       "    </tr>\n",
       "    <tr>\n",
       "      <th>4</th>\n",
       "      <td>1.0</td>\n",
       "      <td>171.73</td>\n",
       "      <td>104.28</td>\n",
       "      <td>103.46</td>\n",
       "      <td>4.04</td>\n",
       "      <td>3.48</td>\n",
       "      <td>112.54</td>\n",
       "    </tr>\n",
       "  </tbody>\n",
       "</table>\n",
       "</div>"
      ],
      "text/plain": [
       "   is_genuine  diagonal  height_left  height_right  margin_low  margin_up  \\\n",
       "0         1.0    171.81       104.86        104.95        4.52       2.89   \n",
       "1         1.0    171.46       103.36        103.66        3.77       2.99   \n",
       "2         1.0    172.69       104.48        103.50        4.40       2.94   \n",
       "3         1.0    171.36       103.91        103.94        3.62       3.01   \n",
       "4         1.0    171.73       104.28        103.46        4.04       3.48   \n",
       "\n",
       "   length  \n",
       "0  112.83  \n",
       "1  113.09  \n",
       "2  113.16  \n",
       "3  113.51  \n",
       "4  112.54  "
      ]
     },
     "execution_count": 27,
     "metadata": {},
     "output_type": "execute_result"
    }
   ],
   "source": [
    "#Affichage des 5 premieres lignes\n",
    "train_df.head()"
   ]
  },
  {
   "cell_type": "code",
   "execution_count": 28,
   "id": "7b02a9df",
   "metadata": {},
   "outputs": [
    {
     "name": "stdout",
     "output_type": "stream",
     "text": [
      "The number of samples into the train data is 1500.\n"
     ]
    }
   ],
   "source": [
    "print('The number of samples into the train data is {}.'.format(train_df.shape[0]))"
   ]
  },
  {
   "cell_type": "code",
   "execution_count": 29,
   "id": "ccaf5862",
   "metadata": {},
   "outputs": [
    {
     "data": {
      "text/html": [
       "<div>\n",
       "<style scoped>\n",
       "    .dataframe tbody tr th:only-of-type {\n",
       "        vertical-align: middle;\n",
       "    }\n",
       "\n",
       "    .dataframe tbody tr th {\n",
       "        vertical-align: top;\n",
       "    }\n",
       "\n",
       "    .dataframe thead th {\n",
       "        text-align: right;\n",
       "    }\n",
       "</style>\n",
       "<table border=\"1\" class=\"dataframe\">\n",
       "  <thead>\n",
       "    <tr style=\"text-align: right;\">\n",
       "      <th></th>\n",
       "      <th>diagonal</th>\n",
       "      <th>height_left</th>\n",
       "      <th>height_right</th>\n",
       "      <th>margin_low</th>\n",
       "      <th>margin_up</th>\n",
       "      <th>length</th>\n",
       "      <th>id</th>\n",
       "    </tr>\n",
       "  </thead>\n",
       "  <tbody>\n",
       "    <tr>\n",
       "      <th>0</th>\n",
       "      <td>171.76</td>\n",
       "      <td>104.01</td>\n",
       "      <td>103.54</td>\n",
       "      <td>5.21</td>\n",
       "      <td>3.30</td>\n",
       "      <td>111.42</td>\n",
       "      <td>A_1</td>\n",
       "    </tr>\n",
       "    <tr>\n",
       "      <th>1</th>\n",
       "      <td>171.87</td>\n",
       "      <td>104.17</td>\n",
       "      <td>104.13</td>\n",
       "      <td>6.00</td>\n",
       "      <td>3.31</td>\n",
       "      <td>112.09</td>\n",
       "      <td>A_2</td>\n",
       "    </tr>\n",
       "    <tr>\n",
       "      <th>2</th>\n",
       "      <td>172.00</td>\n",
       "      <td>104.58</td>\n",
       "      <td>104.29</td>\n",
       "      <td>4.99</td>\n",
       "      <td>3.39</td>\n",
       "      <td>111.57</td>\n",
       "      <td>A_3</td>\n",
       "    </tr>\n",
       "    <tr>\n",
       "      <th>3</th>\n",
       "      <td>172.49</td>\n",
       "      <td>104.55</td>\n",
       "      <td>104.34</td>\n",
       "      <td>4.44</td>\n",
       "      <td>3.03</td>\n",
       "      <td>113.20</td>\n",
       "      <td>A_4</td>\n",
       "    </tr>\n",
       "    <tr>\n",
       "      <th>4</th>\n",
       "      <td>171.65</td>\n",
       "      <td>103.63</td>\n",
       "      <td>103.56</td>\n",
       "      <td>3.77</td>\n",
       "      <td>3.16</td>\n",
       "      <td>113.33</td>\n",
       "      <td>A_5</td>\n",
       "    </tr>\n",
       "  </tbody>\n",
       "</table>\n",
       "</div>"
      ],
      "text/plain": [
       "   diagonal  height_left  height_right  margin_low  margin_up  length   id\n",
       "0    171.76       104.01        103.54        5.21       3.30  111.42  A_1\n",
       "1    171.87       104.17        104.13        6.00       3.31  112.09  A_2\n",
       "2    172.00       104.58        104.29        4.99       3.39  111.57  A_3\n",
       "3    172.49       104.55        104.34        4.44       3.03  113.20  A_4\n",
       "4    171.65       103.63        103.56        3.77       3.16  113.33  A_5"
      ]
     },
     "execution_count": 29,
     "metadata": {},
     "output_type": "execute_result"
    }
   ],
   "source": [
    "# preview test data\n",
    "test_df.head()"
   ]
  },
  {
   "cell_type": "code",
   "execution_count": 30,
   "id": "e333b864",
   "metadata": {},
   "outputs": [
    {
     "name": "stdout",
     "output_type": "stream",
     "text": [
      "The number of samples into the test data is 5.\n"
     ]
    }
   ],
   "source": [
    "print('The number of samples into the test data is {}.'.format(test_df.shape[0]))"
   ]
  },
  {
   "cell_type": "markdown",
   "id": "fd17c28d",
   "metadata": {},
   "source": [
    "Note: there is no target variable into test data (i.e. \"is_genuine\" column is missing), so the goal is to predict this target using different machine learning algorithms such as logistic regression."
   ]
  },
  {
   "cell_type": "code",
   "execution_count": null,
   "id": "d8fad873",
   "metadata": {},
   "outputs": [
    {
     "data": {
      "text/html": [
       "<div>\n",
       "<style scoped>\n",
       "    .dataframe tbody tr th:only-of-type {\n",
       "        vertical-align: middle;\n",
       "    }\n",
       "\n",
       "    .dataframe tbody tr th {\n",
       "        vertical-align: top;\n",
       "    }\n",
       "\n",
       "    .dataframe thead th {\n",
       "        text-align: right;\n",
       "    }\n",
       "</style>\n",
       "<table border=\"1\" class=\"dataframe\">\n",
       "  <thead>\n",
       "    <tr style=\"text-align: right;\">\n",
       "      <th></th>\n",
       "      <th>is_genuine</th>\n",
       "      <th>diagonal</th>\n",
       "      <th>height_left</th>\n",
       "      <th>height_right</th>\n",
       "      <th>margin_low</th>\n",
       "      <th>margin_up</th>\n",
       "      <th>length</th>\n",
       "    </tr>\n",
       "  </thead>\n",
       "  <tbody>\n",
       "    <tr>\n",
       "      <th>1495</th>\n",
       "      <td>0.0</td>\n",
       "      <td>171.75</td>\n",
       "      <td>104.38</td>\n",
       "      <td>104.17</td>\n",
       "      <td>4.42</td>\n",
       "      <td>3.09</td>\n",
       "      <td>111.28</td>\n",
       "    </tr>\n",
       "    <tr>\n",
       "      <th>1496</th>\n",
       "      <td>0.0</td>\n",
       "      <td>172.19</td>\n",
       "      <td>104.63</td>\n",
       "      <td>104.44</td>\n",
       "      <td>5.27</td>\n",
       "      <td>3.37</td>\n",
       "      <td>110.97</td>\n",
       "    </tr>\n",
       "    <tr>\n",
       "      <th>1497</th>\n",
       "      <td>0.0</td>\n",
       "      <td>171.80</td>\n",
       "      <td>104.01</td>\n",
       "      <td>104.12</td>\n",
       "      <td>5.51</td>\n",
       "      <td>3.36</td>\n",
       "      <td>111.95</td>\n",
       "    </tr>\n",
       "    <tr>\n",
       "      <th>1498</th>\n",
       "      <td>0.0</td>\n",
       "      <td>172.06</td>\n",
       "      <td>104.28</td>\n",
       "      <td>104.06</td>\n",
       "      <td>5.17</td>\n",
       "      <td>3.46</td>\n",
       "      <td>112.25</td>\n",
       "    </tr>\n",
       "    <tr>\n",
       "      <th>1499</th>\n",
       "      <td>0.0</td>\n",
       "      <td>171.47</td>\n",
       "      <td>104.15</td>\n",
       "      <td>103.82</td>\n",
       "      <td>4.63</td>\n",
       "      <td>3.37</td>\n",
       "      <td>112.07</td>\n",
       "    </tr>\n",
       "  </tbody>\n",
       "</table>\n",
       "</div>"
      ],
      "text/plain": [
       "      is_genuine  diagonal  height_left  height_right  margin_low  margin_up  \\\n",
       "1495         0.0    171.75       104.38        104.17        4.42       3.09   \n",
       "1496         0.0    172.19       104.63        104.44        5.27       3.37   \n",
       "1497         0.0    171.80       104.01        104.12        5.51       3.36   \n",
       "1498         0.0    172.06       104.28        104.06        5.17       3.46   \n",
       "1499         0.0    171.47       104.15        103.82        4.63       3.37   \n",
       "\n",
       "      length  \n",
       "1495  111.28  \n",
       "1496  110.97  \n",
       "1497  111.95  \n",
       "1498  112.25  \n",
       "1499  112.07  "
      ]
     },
     "execution_count": 8,
     "metadata": {},
     "output_type": "execute_result"
    }
   ],
   "source": [
    "#Affichage des 5 dernieres lignes\n",
    "train_df.tail()"
   ]
  },
  {
   "cell_type": "code",
   "execution_count": null,
   "id": "d345ff61",
   "metadata": {
    "scrolled": true
   },
   "outputs": [
    {
     "data": {
      "text/html": [
       "<div>\n",
       "<style scoped>\n",
       "    .dataframe tbody tr th:only-of-type {\n",
       "        vertical-align: middle;\n",
       "    }\n",
       "\n",
       "    .dataframe tbody tr th {\n",
       "        vertical-align: top;\n",
       "    }\n",
       "\n",
       "    .dataframe thead th {\n",
       "        text-align: right;\n",
       "    }\n",
       "</style>\n",
       "<table border=\"1\" class=\"dataframe\">\n",
       "  <thead>\n",
       "    <tr style=\"text-align: right;\">\n",
       "      <th></th>\n",
       "      <th>is_genuine</th>\n",
       "      <th>diagonal</th>\n",
       "      <th>height_left</th>\n",
       "      <th>height_right</th>\n",
       "      <th>margin_low</th>\n",
       "      <th>margin_up</th>\n",
       "      <th>length</th>\n",
       "    </tr>\n",
       "  </thead>\n",
       "  <tbody>\n",
       "    <tr>\n",
       "      <th>533</th>\n",
       "      <td>1.0</td>\n",
       "      <td>172.33</td>\n",
       "      <td>103.73</td>\n",
       "      <td>103.80</td>\n",
       "      <td>3.77</td>\n",
       "      <td>2.86</td>\n",
       "      <td>113.58</td>\n",
       "    </tr>\n",
       "    <tr>\n",
       "      <th>1309</th>\n",
       "      <td>0.0</td>\n",
       "      <td>172.00</td>\n",
       "      <td>104.45</td>\n",
       "      <td>104.19</td>\n",
       "      <td>5.50</td>\n",
       "      <td>2.99</td>\n",
       "      <td>111.99</td>\n",
       "    </tr>\n",
       "    <tr>\n",
       "      <th>1200</th>\n",
       "      <td>0.0</td>\n",
       "      <td>171.99</td>\n",
       "      <td>104.04</td>\n",
       "      <td>104.25</td>\n",
       "      <td>4.77</td>\n",
       "      <td>3.43</td>\n",
       "      <td>111.83</td>\n",
       "    </tr>\n",
       "    <tr>\n",
       "      <th>1118</th>\n",
       "      <td>0.0</td>\n",
       "      <td>171.38</td>\n",
       "      <td>104.52</td>\n",
       "      <td>104.22</td>\n",
       "      <td>4.58</td>\n",
       "      <td>3.41</td>\n",
       "      <td>111.84</td>\n",
       "    </tr>\n",
       "    <tr>\n",
       "      <th>762</th>\n",
       "      <td>1.0</td>\n",
       "      <td>172.02</td>\n",
       "      <td>104.01</td>\n",
       "      <td>103.57</td>\n",
       "      <td>4.50</td>\n",
       "      <td>2.77</td>\n",
       "      <td>112.72</td>\n",
       "    </tr>\n",
       "  </tbody>\n",
       "</table>\n",
       "</div>"
      ],
      "text/plain": [
       "      is_genuine  diagonal  height_left  height_right  margin_low  margin_up  \\\n",
       "533          1.0    172.33       103.73        103.80        3.77       2.86   \n",
       "1309         0.0    172.00       104.45        104.19        5.50       2.99   \n",
       "1200         0.0    171.99       104.04        104.25        4.77       3.43   \n",
       "1118         0.0    171.38       104.52        104.22        4.58       3.41   \n",
       "762          1.0    172.02       104.01        103.57        4.50       2.77   \n",
       "\n",
       "      length  \n",
       "533   113.58  \n",
       "1309  111.99  \n",
       "1200  111.83  \n",
       "1118  111.84  \n",
       "762   112.72  "
      ]
     },
     "execution_count": 9,
     "metadata": {},
     "output_type": "execute_result"
    }
   ],
   "source": [
    "#Affichage de 5 lignes arbitrairement\n",
    "train_df.sample(5)"
   ]
  },
  {
   "cell_type": "code",
   "execution_count": null,
   "id": "82c6ccf8",
   "metadata": {},
   "outputs": [
    {
     "data": {
      "text/plain": [
       "(1500, 7)"
      ]
     },
     "execution_count": 10,
     "metadata": {},
     "output_type": "execute_result"
    }
   ],
   "source": [
    "#Dimensions du DataFrame\n",
    "train_df.shape"
   ]
  },
  {
   "cell_type": "code",
   "execution_count": null,
   "id": "5a225f21",
   "metadata": {
    "scrolled": true
   },
   "outputs": [
    {
     "data": {
      "text/plain": [
       "is_genuine      float64\n",
       "diagonal        float64\n",
       "height_left     float64\n",
       "height_right    float64\n",
       "margin_low      float64\n",
       "margin_up       float64\n",
       "length          float64\n",
       "dtype: object"
      ]
     },
     "execution_count": 11,
     "metadata": {},
     "output_type": "execute_result"
    }
   ],
   "source": [
    "#Information sur les colonnes\n",
    "train_df.dtypes"
   ]
  },
  {
   "cell_type": "code",
   "execution_count": null,
   "id": "c9bf851b",
   "metadata": {},
   "outputs": [
    {
     "data": {
      "text/html": [
       "<div>\n",
       "<style scoped>\n",
       "    .dataframe tbody tr th:only-of-type {\n",
       "        vertical-align: middle;\n",
       "    }\n",
       "\n",
       "    .dataframe tbody tr th {\n",
       "        vertical-align: top;\n",
       "    }\n",
       "\n",
       "    .dataframe thead th {\n",
       "        text-align: right;\n",
       "    }\n",
       "</style>\n",
       "<table border=\"1\" class=\"dataframe\">\n",
       "  <thead>\n",
       "    <tr style=\"text-align: right;\">\n",
       "      <th></th>\n",
       "      <th>is_genuine</th>\n",
       "      <th>diagonal</th>\n",
       "      <th>height_left</th>\n",
       "      <th>height_right</th>\n",
       "      <th>margin_low</th>\n",
       "      <th>margin_up</th>\n",
       "      <th>length</th>\n",
       "    </tr>\n",
       "  </thead>\n",
       "  <tbody>\n",
       "    <tr>\n",
       "      <th>count</th>\n",
       "      <td>1500.00</td>\n",
       "      <td>1500.00</td>\n",
       "      <td>1500.00</td>\n",
       "      <td>1500.00</td>\n",
       "      <td>1463.00</td>\n",
       "      <td>1500.00</td>\n",
       "      <td>1500.00</td>\n",
       "    </tr>\n",
       "    <tr>\n",
       "      <th>mean</th>\n",
       "      <td>0.67</td>\n",
       "      <td>171.96</td>\n",
       "      <td>104.03</td>\n",
       "      <td>103.92</td>\n",
       "      <td>4.49</td>\n",
       "      <td>3.15</td>\n",
       "      <td>112.68</td>\n",
       "    </tr>\n",
       "    <tr>\n",
       "      <th>std</th>\n",
       "      <td>0.47</td>\n",
       "      <td>0.31</td>\n",
       "      <td>0.30</td>\n",
       "      <td>0.33</td>\n",
       "      <td>0.66</td>\n",
       "      <td>0.23</td>\n",
       "      <td>0.87</td>\n",
       "    </tr>\n",
       "    <tr>\n",
       "      <th>min</th>\n",
       "      <td>0.00</td>\n",
       "      <td>171.04</td>\n",
       "      <td>103.14</td>\n",
       "      <td>102.82</td>\n",
       "      <td>2.98</td>\n",
       "      <td>2.27</td>\n",
       "      <td>109.49</td>\n",
       "    </tr>\n",
       "    <tr>\n",
       "      <th>25%</th>\n",
       "      <td>0.00</td>\n",
       "      <td>171.75</td>\n",
       "      <td>103.82</td>\n",
       "      <td>103.71</td>\n",
       "      <td>4.01</td>\n",
       "      <td>2.99</td>\n",
       "      <td>112.03</td>\n",
       "    </tr>\n",
       "    <tr>\n",
       "      <th>50%</th>\n",
       "      <td>1.00</td>\n",
       "      <td>171.96</td>\n",
       "      <td>104.04</td>\n",
       "      <td>103.92</td>\n",
       "      <td>4.31</td>\n",
       "      <td>3.14</td>\n",
       "      <td>112.96</td>\n",
       "    </tr>\n",
       "    <tr>\n",
       "      <th>75%</th>\n",
       "      <td>1.00</td>\n",
       "      <td>172.17</td>\n",
       "      <td>104.23</td>\n",
       "      <td>104.15</td>\n",
       "      <td>4.87</td>\n",
       "      <td>3.31</td>\n",
       "      <td>113.34</td>\n",
       "    </tr>\n",
       "    <tr>\n",
       "      <th>max</th>\n",
       "      <td>1.00</td>\n",
       "      <td>173.01</td>\n",
       "      <td>104.88</td>\n",
       "      <td>104.95</td>\n",
       "      <td>6.90</td>\n",
       "      <td>3.91</td>\n",
       "      <td>114.44</td>\n",
       "    </tr>\n",
       "  </tbody>\n",
       "</table>\n",
       "</div>"
      ],
      "text/plain": [
       "       is_genuine  diagonal  height_left  height_right  margin_low  margin_up  \\\n",
       "count     1500.00   1500.00      1500.00       1500.00     1463.00    1500.00   \n",
       "mean         0.67    171.96       104.03        103.92        4.49       3.15   \n",
       "std          0.47      0.31         0.30          0.33        0.66       0.23   \n",
       "min          0.00    171.04       103.14        102.82        2.98       2.27   \n",
       "25%          0.00    171.75       103.82        103.71        4.01       2.99   \n",
       "50%          1.00    171.96       104.04        103.92        4.31       3.14   \n",
       "75%          1.00    172.17       104.23        104.15        4.87       3.31   \n",
       "max          1.00    173.01       104.88        104.95        6.90       3.91   \n",
       "\n",
       "        length  \n",
       "count  1500.00  \n",
       "mean    112.68  \n",
       "std       0.87  \n",
       "min     109.49  \n",
       "25%     112.03  \n",
       "50%     112.96  \n",
       "75%     113.34  \n",
       "max     114.44  "
      ]
     },
     "execution_count": 14,
     "metadata": {},
     "output_type": "execute_result"
    }
   ],
   "source": [
    "#Statistiques descriptives\n",
    "train_df.describe().round(2)"
   ]
  },
  {
   "cell_type": "code",
   "execution_count": null,
   "id": "17c7af28",
   "metadata": {},
   "outputs": [
    {
     "data": {
      "text/plain": [
       "0"
      ]
     },
     "execution_count": 86,
     "metadata": {},
     "output_type": "execute_result"
    }
   ],
   "source": [
    "#Nombre des doublons dans le DataFrame\n",
    "df_orig.duplicated().sum()"
   ]
  },
  {
   "cell_type": "code",
   "execution_count": null,
   "id": "6fc65dea",
   "metadata": {},
   "outputs": [
    {
     "data": {
      "text/plain": [
       "0"
      ]
     },
     "execution_count": 87,
     "metadata": {},
     "output_type": "execute_result"
    }
   ],
   "source": [
    "#Nombre des doublons sans le target\n",
    "df_orig.drop(columns=\"is_genuine\").duplicated().sum()"
   ]
  },
  {
   "cell_type": "code",
   "execution_count": null,
   "id": "42eb1a53",
   "metadata": {},
   "outputs": [
    {
     "data": {
      "text/plain": [
       "is_genuine        2\n",
       "diagonal        159\n",
       "height_left     155\n",
       "height_right    170\n",
       "margin_low      285\n",
       "margin_up       123\n",
       "length          336\n",
       "dtype: int64"
      ]
     },
     "execution_count": 88,
     "metadata": {},
     "output_type": "execute_result"
    }
   ],
   "source": [
    "#Information sur les valeurs unique dans chaque colonne\n",
    "df_orig.nunique()"
   ]
  },
  {
   "cell_type": "code",
   "execution_count": null,
   "id": "d8e6f52a",
   "metadata": {},
   "outputs": [
    {
     "data": {
      "text/plain": [
       "is_genuine\n",
       "1.0    1000\n",
       "0.0     500\n",
       "Name: count, dtype: int64"
      ]
     },
     "execution_count": 89,
     "metadata": {},
     "output_type": "execute_result"
    }
   ],
   "source": [
    "#Nombre des valeurs dans la target\n",
    "df_orig['is_genuine'].value_counts()"
   ]
  },
  {
   "cell_type": "code",
   "execution_count": null,
   "id": "68433a5e",
   "metadata": {},
   "outputs": [],
   "source": [
    "#creation de la colonne target\n",
    "df_orig.rename(columns={'is_genuine':'target'}, inplace=True)"
   ]
  },
  {
   "cell_type": "markdown",
   "id": "819c40b0",
   "metadata": {},
   "source": [
    "On a 37 valeurs manquantes dans la colonne margin_low"
   ]
  },
  {
   "cell_type": "markdown",
   "id": "4f930728",
   "metadata": {},
   "source": [
    "## 2.3 Nettoyage des données"
   ]
  },
  {
   "cell_type": "code",
   "execution_count": null,
   "id": "079f83fa",
   "metadata": {},
   "outputs": [
    {
     "data": {
      "text/plain": [
       "is_genuine       0\n",
       "diagonal         0\n",
       "height_left      0\n",
       "height_right     0\n",
       "margin_low      37\n",
       "margin_up        0\n",
       "length           0\n",
       "dtype: int64"
      ]
     },
     "execution_count": 12,
     "metadata": {},
     "output_type": "execute_result"
    }
   ],
   "source": [
    "#Nombre des valeurs manquantes dans chaque colonne\n",
    "train_df.isnull().sum()"
   ]
  },
  {
   "cell_type": "code",
   "execution_count": 33,
   "id": "91eb1b53",
   "metadata": {},
   "outputs": [
    {
     "name": "stdout",
     "output_type": "stream",
     "text": [
      "Percent of missing \"margin_low\" records is 2.47%\n"
     ]
    }
   ],
   "source": [
    "# Pourçentage des valeurs manquantes \n",
    "print('Percent of missing \"margin_low\" records is %.2f%%' %((train_df['margin_low'].isnull().sum()/train_df.shape[0])*100))"
   ]
  },
  {
   "cell_type": "markdown",
   "id": "e70b5266",
   "metadata": {},
   "source": [
    "~2,5% de donnée sur margin_low est manquantes. -> voir la distribution de cette variable"
   ]
  },
  {
   "cell_type": "code",
   "execution_count": 35,
   "id": "4719eabc",
   "metadata": {},
   "outputs": [
    {
     "data": {
      "image/png": "[encoded data removed]",
      "text/plain": [
       "<Figure size 640x480 with 1 Axes>"
      ]
     },
     "metadata": {},
     "output_type": "display_data"
    }
   ],
   "source": [
    "ax = train_df[\"margin_low\"].hist(bins=15, density=True, stacked=True, color='teal', alpha=0.6)\n",
    "train_df[\"margin_low\"].plot(kind='density', color='teal')\n",
    "ax.set(xlabel='margin_low')\n",
    "plt.xlim(0,10)\n",
    "plt.show()"
   ]
  },
  {
   "cell_type": "markdown",
   "id": "0f138662",
   "metadata": {},
   "source": [
    "la mediane de margin_low est indique entre 4 et 5 mm. On va essayer la regression pour l'imputation des valeurs manquantes."
   ]
  },
  {
   "cell_type": "code",
   "execution_count": null,
   "id": "cdb6ac88",
   "metadata": {},
   "outputs": [],
   "source": []
  },
  {
   "cell_type": "markdown",
   "id": "23ded8fa",
   "metadata": {},
   "source": [
    "### 2.3.1 Imputation des valeurs manquantes"
   ]
  },
  {
   "cell_type": "code",
   "execution_count": null,
   "id": "0a8850e0",
   "metadata": {},
   "outputs": [],
   "source": [
    "df=df_orig.copy()"
   ]
  },
  {
   "cell_type": "code",
   "execution_count": null,
   "id": "b1e21a18",
   "metadata": {},
   "outputs": [],
   "source": [
    "## elimination de la colonne target\n",
    "df.drop(['target'], axis=1, inplace=True)"
   ]
  },
  {
   "cell_type": "markdown",
   "id": "8b1e57f1",
   "metadata": {},
   "source": [
    "On a un DataFrame qui contient X=6 (features)"
   ]
  },
  {
   "cell_type": "markdown",
   "id": "0df9f384",
   "metadata": {},
   "source": [
    "## Regression lineaire"
   ]
  },
  {
   "cell_type": "markdown",
   "id": "35b033ea",
   "metadata": {},
   "source": [
    "les valeurs manquantes sont de type numerique"
   ]
  },
  {
   "cell_type": "markdown",
   "id": "7466ed47",
   "metadata": {},
   "source": [
    "#Choix de la methode regression lineaire pour l'imputation des valeurs manquantes"
   ]
  },
  {
   "cell_type": "code",
   "execution_count": null,
   "id": "f5448c0d",
   "metadata": {},
   "outputs": [],
   "source": [
    "# Séparer les données en deux ensembles : avec et sans valeurs manquantes\n",
    "\n",
    "test_data = df[df['margin_low'].isna()] #DataFrame qui contient que les valeurs manquantes\n",
    "\n",
    "train_data = df[~df['margin_low'].isna()] #dataframe sans valeurs manquantes"
   ]
  },
  {
   "cell_type": "code",
   "execution_count": null,
   "id": "d2f6227f",
   "metadata": {},
   "outputs": [
    {
     "data": {
      "text/plain": [
       "(37, 6)"
      ]
     },
     "execution_count": 97,
     "metadata": {},
     "output_type": "execute_result"
    }
   ],
   "source": [
    "test_data.shape"
   ]
  },
  {
   "cell_type": "code",
   "execution_count": null,
   "id": "d2fb0825",
   "metadata": {},
   "outputs": [
    {
     "data": {
      "text/plain": [
       "(1463, 6)"
      ]
     },
     "execution_count": 98,
     "metadata": {},
     "output_type": "execute_result"
    }
   ],
   "source": [
    "train_data.shape"
   ]
  },
  {
   "cell_type": "code",
   "execution_count": null,
   "id": "3822a653",
   "metadata": {},
   "outputs": [
    {
     "data": {
      "text/html": [
       "<div>\n",
       "<style scoped>\n",
       "    .dataframe tbody tr th:only-of-type {\n",
       "        vertical-align: middle;\n",
       "    }\n",
       "\n",
       "    .dataframe tbody tr th {\n",
       "        vertical-align: top;\n",
       "    }\n",
       "\n",
       "    .dataframe thead th {\n",
       "        text-align: right;\n",
       "    }\n",
       "</style>\n",
       "<table border=\"1\" class=\"dataframe\">\n",
       "  <thead>\n",
       "    <tr style=\"text-align: right;\">\n",
       "      <th></th>\n",
       "      <th>diagonal</th>\n",
       "      <th>height_left</th>\n",
       "      <th>height_right</th>\n",
       "      <th>margin_up</th>\n",
       "      <th>length</th>\n",
       "    </tr>\n",
       "  </thead>\n",
       "  <tbody>\n",
       "    <tr>\n",
       "      <th>0</th>\n",
       "      <td>171.81</td>\n",
       "      <td>104.86</td>\n",
       "      <td>104.95</td>\n",
       "      <td>2.89</td>\n",
       "      <td>112.83</td>\n",
       "    </tr>\n",
       "    <tr>\n",
       "      <th>1</th>\n",
       "      <td>171.46</td>\n",
       "      <td>103.36</td>\n",
       "      <td>103.66</td>\n",
       "      <td>2.99</td>\n",
       "      <td>113.09</td>\n",
       "    </tr>\n",
       "    <tr>\n",
       "      <th>2</th>\n",
       "      <td>172.69</td>\n",
       "      <td>104.48</td>\n",
       "      <td>103.50</td>\n",
       "      <td>2.94</td>\n",
       "      <td>113.16</td>\n",
       "    </tr>\n",
       "    <tr>\n",
       "      <th>3</th>\n",
       "      <td>171.36</td>\n",
       "      <td>103.91</td>\n",
       "      <td>103.94</td>\n",
       "      <td>3.01</td>\n",
       "      <td>113.51</td>\n",
       "    </tr>\n",
       "    <tr>\n",
       "      <th>4</th>\n",
       "      <td>171.73</td>\n",
       "      <td>104.28</td>\n",
       "      <td>103.46</td>\n",
       "      <td>3.48</td>\n",
       "      <td>112.54</td>\n",
       "    </tr>\n",
       "    <tr>\n",
       "      <th>...</th>\n",
       "      <td>...</td>\n",
       "      <td>...</td>\n",
       "      <td>...</td>\n",
       "      <td>...</td>\n",
       "      <td>...</td>\n",
       "    </tr>\n",
       "    <tr>\n",
       "      <th>1495</th>\n",
       "      <td>171.75</td>\n",
       "      <td>104.38</td>\n",
       "      <td>104.17</td>\n",
       "      <td>3.09</td>\n",
       "      <td>111.28</td>\n",
       "    </tr>\n",
       "    <tr>\n",
       "      <th>1496</th>\n",
       "      <td>172.19</td>\n",
       "      <td>104.63</td>\n",
       "      <td>104.44</td>\n",
       "      <td>3.37</td>\n",
       "      <td>110.97</td>\n",
       "    </tr>\n",
       "    <tr>\n",
       "      <th>1497</th>\n",
       "      <td>171.80</td>\n",
       "      <td>104.01</td>\n",
       "      <td>104.12</td>\n",
       "      <td>3.36</td>\n",
       "      <td>111.95</td>\n",
       "    </tr>\n",
       "    <tr>\n",
       "      <th>1498</th>\n",
       "      <td>172.06</td>\n",
       "      <td>104.28</td>\n",
       "      <td>104.06</td>\n",
       "      <td>3.46</td>\n",
       "      <td>112.25</td>\n",
       "    </tr>\n",
       "    <tr>\n",
       "      <th>1499</th>\n",
       "      <td>171.47</td>\n",
       "      <td>104.15</td>\n",
       "      <td>103.82</td>\n",
       "      <td>3.37</td>\n",
       "      <td>112.07</td>\n",
       "    </tr>\n",
       "  </tbody>\n",
       "</table>\n",
       "<p>1463 rows × 5 columns</p>\n",
       "</div>"
      ],
      "text/plain": [
       "      diagonal  height_left  height_right  margin_up  length\n",
       "0       171.81       104.86        104.95       2.89  112.83\n",
       "1       171.46       103.36        103.66       2.99  113.09\n",
       "2       172.69       104.48        103.50       2.94  113.16\n",
       "3       171.36       103.91        103.94       3.01  113.51\n",
       "4       171.73       104.28        103.46       3.48  112.54\n",
       "...        ...          ...           ...        ...     ...\n",
       "1495    171.75       104.38        104.17       3.09  111.28\n",
       "1496    172.19       104.63        104.44       3.37  110.97\n",
       "1497    171.80       104.01        104.12       3.36  111.95\n",
       "1498    172.06       104.28        104.06       3.46  112.25\n",
       "1499    171.47       104.15        103.82       3.37  112.07\n",
       "\n",
       "[1463 rows x 5 columns]"
      ]
     },
     "execution_count": 99,
     "metadata": {},
     "output_type": "execute_result"
    }
   ],
   "source": [
    "# Diviser les données en variables explicatives (X) et la variable cible (y)\n",
    "#les variables explicative (X)\n",
    "X_train = train_data.drop(columns=['margin_low'])\n",
    "X_train"
   ]
  },
  {
   "cell_type": "code",
   "execution_count": null,
   "id": "4f9cd8e7",
   "metadata": {},
   "outputs": [
    {
     "data": {
      "text/plain": [
       "(1463,)"
      ]
     },
     "execution_count": 100,
     "metadata": {},
     "output_type": "execute_result"
    }
   ],
   "source": [
    "# Diviser les données en variables explicatives (X) et la variable cible (y)\n",
    "#la variable cible (y) (target)\n",
    "y_train= train_data['margin_low']\n",
    "y_train.shape"
   ]
  },
  {
   "cell_type": "code",
   "execution_count": null,
   "id": "5a3024e1",
   "metadata": {},
   "outputs": [
    {
     "data": {
      "text/html": [
       "<style>#sk-container-id-1 {\n",
       "  /* Definition of color scheme common for light and dark mode */\n",
       "  --sklearn-color-text: black;\n",
       "  --sklearn-color-line: gray;\n",
       "  /* Definition of color scheme for unfitted estimators */\n",
       "  --sklearn-color-unfitted-level-0: #fff5e6;\n",
       "  --sklearn-color-unfitted-level-1: #f6e4d2;\n",
       "  --sklearn-color-unfitted-level-2: #ffe0b3;\n",
       "  --sklearn-color-unfitted-level-3: chocolate;\n",
       "  /* Definition of color scheme for fitted estimators */\n",
       "  --sklearn-color-fitted-level-0: #f0f8ff;\n",
       "  --sklearn-color-fitted-level-1: #d4ebff;\n",
       "  --sklearn-color-fitted-level-2: #b3dbfd;\n",
       "  --sklearn-color-fitted-level-3: cornflowerblue;\n",
       "\n",
       "  /* Specific color for light theme */\n",
       "  --sklearn-color-text-on-default-background: var(--sg-text-color, var(--theme-code-foreground, var(--jp-content-font-color1, black)));\n",
       "  --sklearn-color-background: var(--sg-background-color, var(--theme-background, var(--jp-layout-color0, white)));\n",
       "  --sklearn-color-border-box: var(--sg-text-color, var(--theme-code-foreground, var(--jp-content-font-color1, black)));\n",
       "  --sklearn-color-icon: #696969;\n",
       "\n",
       "  @media (prefers-color-scheme: dark) {\n",
       "    /* Redefinition of color scheme for dark theme */\n",
       "    --sklearn-color-text-on-default-background: var(--sg-text-color, var(--theme-code-foreground, var(--jp-content-font-color1, white)));\n",
       "    --sklearn-color-background: var(--sg-background-color, var(--theme-background, var(--jp-layout-color0, #111)));\n",
       "    --sklearn-color-border-box: var(--sg-text-color, var(--theme-code-foreground, var(--jp-content-font-color1, white)));\n",
       "    --sklearn-color-icon: #878787;\n",
       "  }\n",
       "}\n",
       "\n",
       "#sk-container-id-1 {\n",
       "  color: var(--sklearn-color-text);\n",
       "}\n",
       "\n",
       "#sk-container-id-1 pre {\n",
       "  padding: 0;\n",
       "}\n",
       "\n",
       "#sk-container-id-1 input.sk-hidden--visually {\n",
       "  border: 0;\n",
       "  clip: rect(1px 1px 1px 1px);\n",
       "  clip: rect(1px, 1px, 1px, 1px);\n",
       "  height: 1px;\n",
       "  margin: -1px;\n",
       "  overflow: hidden;\n",
       "  padding: 0;\n",
       "  position: absolute;\n",
       "  width: 1px;\n",
       "}\n",
       "\n",
       "#sk-container-id-1 div.sk-dashed-wrapped {\n",
       "  border: 1px dashed var(--sklearn-color-line);\n",
       "  margin: 0 0.4em 0.5em 0.4em;\n",
       "  box-sizing: border-box;\n",
       "  padding-bottom: 0.4em;\n",
       "  background-color: var(--sklearn-color-background);\n",
       "}\n",
       "\n",
       "#sk-container-id-1 div.sk-container {\n",
       "  /* jupyter's `normalize.less` sets `[hidden] { display: none; }`\n",
       "     but bootstrap.min.css set `[hidden] { display: none !important; }`\n",
       "     so we also need the `!important` here to be able to override the\n",
       "     default hidden behavior on the sphinx rendered scikit-learn.org.\n",
       "     See: https://github.com/scikit-learn/scikit-learn/issues/21755 */\n",
       "  display: inline-block !important;\n",
       "  position: relative;\n",
       "}\n",
       "\n",
       "#sk-container-id-1 div.sk-text-repr-fallback {\n",
       "  display: none;\n",
       "}\n",
       "\n",
       "div.sk-parallel-item,\n",
       "div.sk-serial,\n",
       "div.sk-item {\n",
       "  /* draw centered vertical line to link estimators */\n",
       "  background-image: linear-gradient(var(--sklearn-color-text-on-default-background), var(--sklearn-color-text-on-default-background));\n",
       "  background-size: 2px 100%;\n",
       "  background-repeat: no-repeat;\n",
       "  background-position: center center;\n",
       "}\n",
       "\n",
       "/* Parallel-specific style estimator block */\n",
       "\n",
       "#sk-container-id-1 div.sk-parallel-item::after {\n",
       "  content: \"\";\n",
       "  width: 100%;\n",
       "  border-bottom: 2px solid var(--sklearn-color-text-on-default-background);\n",
       "  flex-grow: 1;\n",
       "}\n",
       "\n",
       "#sk-container-id-1 div.sk-parallel {\n",
       "  display: flex;\n",
       "  align-items: stretch;\n",
       "  justify-content: center;\n",
       "  background-color: var(--sklearn-color-background);\n",
       "  position: relative;\n",
       "}\n",
       "\n",
       "#sk-container-id-1 div.sk-parallel-item {\n",
       "  display: flex;\n",
       "  flex-direction: column;\n",
       "}\n",
       "\n",
       "#sk-container-id-1 div.sk-parallel-item:first-child::after {\n",
       "  align-self: flex-end;\n",
       "  width: 50%;\n",
       "}\n",
       "\n",
       "#sk-container-id-1 div.sk-parallel-item:last-child::after {\n",
       "  align-self: flex-start;\n",
       "  width: 50%;\n",
       "}\n",
       "\n",
       "#sk-container-id-1 div.sk-parallel-item:only-child::after {\n",
       "  width: 0;\n",
       "}\n",
       "\n",
       "/* Serial-specific style estimator block */\n",
       "\n",
       "#sk-container-id-1 div.sk-serial {\n",
       "  display: flex;\n",
       "  flex-direction: column;\n",
       "  align-items: center;\n",
       "  background-color: var(--sklearn-color-background);\n",
       "  padding-right: 1em;\n",
       "  padding-left: 1em;\n",
       "}\n",
       "\n",
       "\n",
       "/* Toggleable style: style used for estimator/Pipeline/ColumnTransformer box that is\n",
       "clickable and can be expanded/collapsed.\n",
       "- Pipeline and ColumnTransformer use this feature and define the default style\n",
       "- Estimators will overwrite some part of the style using the `sk-estimator` class\n",
       "*/\n",
       "\n",
       "/* Pipeline and ColumnTransformer style (default) */\n",
       "\n",
       "#sk-container-id-1 div.sk-toggleable {\n",
       "  /* Default theme specific background. It is overwritten whether we have a\n",
       "  specific estimator or a Pipeline/ColumnTransformer */\n",
       "  background-color: var(--sklearn-color-background);\n",
       "}\n",
       "\n",
       "/* Toggleable label */\n",
       "#sk-container-id-1 label.sk-toggleable__label {\n",
       "  cursor: pointer;\n",
       "  display: block;\n",
       "  width: 100%;\n",
       "  margin-bottom: 0;\n",
       "  padding: 0.5em;\n",
       "  box-sizing: border-box;\n",
       "  text-align: center;\n",
       "}\n",
       "\n",
       "#sk-container-id-1 label.sk-toggleable__label-arrow:before {\n",
       "  /* Arrow on the left of the label */\n",
       "  content: \"▸\";\n",
       "  float: left;\n",
       "  margin-right: 0.25em;\n",
       "  color: var(--sklearn-color-icon);\n",
       "}\n",
       "\n",
       "#sk-container-id-1 label.sk-toggleable__label-arrow:hover:before {\n",
       "  color: var(--sklearn-color-text);\n",
       "}\n",
       "\n",
       "/* Toggleable content - dropdown */\n",
       "\n",
       "#sk-container-id-1 div.sk-toggleable__content {\n",
       "  max-height: 0;\n",
       "  max-width: 0;\n",
       "  overflow: hidden;\n",
       "  text-align: left;\n",
       "  /* unfitted */\n",
       "  background-color: var(--sklearn-color-unfitted-level-0);\n",
       "}\n",
       "\n",
       "#sk-container-id-1 div.sk-toggleable__content.fitted {\n",
       "  /* fitted */\n",
       "  background-color: var(--sklearn-color-fitted-level-0);\n",
       "}\n",
       "\n",
       "#sk-container-id-1 div.sk-toggleable__content pre {\n",
       "  margin: 0.2em;\n",
       "  border-radius: 0.25em;\n",
       "  color: var(--sklearn-color-text);\n",
       "  /* unfitted */\n",
       "  background-color: var(--sklearn-color-unfitted-level-0);\n",
       "}\n",
       "\n",
       "#sk-container-id-1 div.sk-toggleable__content.fitted pre {\n",
       "  /* unfitted */\n",
       "  background-color: var(--sklearn-color-fitted-level-0);\n",
       "}\n",
       "\n",
       "#sk-container-id-1 input.sk-toggleable__control:checked~div.sk-toggleable__content {\n",
       "  /* Expand drop-down */\n",
       "  max-height: 200px;\n",
       "  max-width: 100%;\n",
       "  overflow: auto;\n",
       "}\n",
       "\n",
       "#sk-container-id-1 input.sk-toggleable__control:checked~label.sk-toggleable__label-arrow:before {\n",
       "  content: \"▾\";\n",
       "}\n",
       "\n",
       "/* Pipeline/ColumnTransformer-specific style */\n",
       "\n",
       "#sk-container-id-1 div.sk-label input.sk-toggleable__control:checked~label.sk-toggleable__label {\n",
       "  color: var(--sklearn-color-text);\n",
       "  background-color: var(--sklearn-color-unfitted-level-2);\n",
       "}\n",
       "\n",
       "#sk-container-id-1 div.sk-label.fitted input.sk-toggleable__control:checked~label.sk-toggleable__label {\n",
       "  background-color: var(--sklearn-color-fitted-level-2);\n",
       "}\n",
       "\n",
       "/* Estimator-specific style */\n",
       "\n",
       "/* Colorize estimator box */\n",
       "#sk-container-id-1 div.sk-estimator input.sk-toggleable__control:checked~label.sk-toggleable__label {\n",
       "  /* unfitted */\n",
       "  background-color: var(--sklearn-color-unfitted-level-2);\n",
       "}\n",
       "\n",
       "#sk-container-id-1 div.sk-estimator.fitted input.sk-toggleable__control:checked~label.sk-toggleable__label {\n",
       "  /* fitted */\n",
       "  background-color: var(--sklearn-color-fitted-level-2);\n",
       "}\n",
       "\n",
       "#sk-container-id-1 div.sk-label label.sk-toggleable__label,\n",
       "#sk-container-id-1 div.sk-label label {\n",
       "  /* The background is the default theme color */\n",
       "  color: var(--sklearn-color-text-on-default-background);\n",
       "}\n",
       "\n",
       "/* On hover, darken the color of the background */\n",
       "#sk-container-id-1 div.sk-label:hover label.sk-toggleable__label {\n",
       "  color: var(--sklearn-color-text);\n",
       "  background-color: var(--sklearn-color-unfitted-level-2);\n",
       "}\n",
       "\n",
       "/* Label box, darken color on hover, fitted */\n",
       "#sk-container-id-1 div.sk-label.fitted:hover label.sk-toggleable__label.fitted {\n",
       "  color: var(--sklearn-color-text);\n",
       "  background-color: var(--sklearn-color-fitted-level-2);\n",
       "}\n",
       "\n",
       "/* Estimator label */\n",
       "\n",
       "#sk-container-id-1 div.sk-label label {\n",
       "  font-family: monospace;\n",
       "  font-weight: bold;\n",
       "  display: inline-block;\n",
       "  line-height: 1.2em;\n",
       "}\n",
       "\n",
       "#sk-container-id-1 div.sk-label-container {\n",
       "  text-align: center;\n",
       "}\n",
       "\n",
       "/* Estimator-specific */\n",
       "#sk-container-id-1 div.sk-estimator {\n",
       "  font-family: monospace;\n",
       "  border: 1px dotted var(--sklearn-color-border-box);\n",
       "  border-radius: 0.25em;\n",
       "  box-sizing: border-box;\n",
       "  margin-bottom: 0.5em;\n",
       "  /* unfitted */\n",
       "  background-color: var(--sklearn-color-unfitted-level-0);\n",
       "}\n",
       "\n",
       "#sk-container-id-1 div.sk-estimator.fitted {\n",
       "  /* fitted */\n",
       "  background-color: var(--sklearn-color-fitted-level-0);\n",
       "}\n",
       "\n",
       "/* on hover */\n",
       "#sk-container-id-1 div.sk-estimator:hover {\n",
       "  /* unfitted */\n",
       "  background-color: var(--sklearn-color-unfitted-level-2);\n",
       "}\n",
       "\n",
       "#sk-container-id-1 div.sk-estimator.fitted:hover {\n",
       "  /* fitted */\n",
       "  background-color: var(--sklearn-color-fitted-level-2);\n",
       "}\n",
       "\n",
       "/* Specification for estimator info (e.g. \"i\" and \"?\") */\n",
       "\n",
       "/* Common style for \"i\" and \"?\" */\n",
       "\n",
       ".sk-estimator-doc-link,\n",
       "a:link.sk-estimator-doc-link,\n",
       "a:visited.sk-estimator-doc-link {\n",
       "  float: right;\n",
       "  font-size: smaller;\n",
       "  line-height: 1em;\n",
       "  font-family: monospace;\n",
       "  background-color: var(--sklearn-color-background);\n",
       "  border-radius: 1em;\n",
       "  height: 1em;\n",
       "  width: 1em;\n",
       "  text-decoration: none !important;\n",
       "  margin-left: 1ex;\n",
       "  /* unfitted */\n",
       "  border: var(--sklearn-color-unfitted-level-1) 1pt solid;\n",
       "  color: var(--sklearn-color-unfitted-level-1);\n",
       "}\n",
       "\n",
       ".sk-estimator-doc-link.fitted,\n",
       "a:link.sk-estimator-doc-link.fitted,\n",
       "a:visited.sk-estimator-doc-link.fitted {\n",
       "  /* fitted */\n",
       "  border: var(--sklearn-color-fitted-level-1) 1pt solid;\n",
       "  color: var(--sklearn-color-fitted-level-1);\n",
       "}\n",
       "\n",
       "/* On hover */\n",
       "div.sk-estimator:hover .sk-estimator-doc-link:hover,\n",
       ".sk-estimator-doc-link:hover,\n",
       "div.sk-label-container:hover .sk-estimator-doc-link:hover,\n",
       ".sk-estimator-doc-link:hover {\n",
       "  /* unfitted */\n",
       "  background-color: var(--sklearn-color-unfitted-level-3);\n",
       "  color: var(--sklearn-color-background);\n",
       "  text-decoration: none;\n",
       "}\n",
       "\n",
       "div.sk-estimator.fitted:hover .sk-estimator-doc-link.fitted:hover,\n",
       ".sk-estimator-doc-link.fitted:hover,\n",
       "div.sk-label-container:hover .sk-estimator-doc-link.fitted:hover,\n",
       ".sk-estimator-doc-link.fitted:hover {\n",
       "  /* fitted */\n",
       "  background-color: var(--sklearn-color-fitted-level-3);\n",
       "  color: var(--sklearn-color-background);\n",
       "  text-decoration: none;\n",
       "}\n",
       "\n",
       "/* Span, style for the box shown on hovering the info icon */\n",
       ".sk-estimator-doc-link span {\n",
       "  display: none;\n",
       "  z-index: 9999;\n",
       "  position: relative;\n",
       "  font-weight: normal;\n",
       "  right: .2ex;\n",
       "  padding: .5ex;\n",
       "  margin: .5ex;\n",
       "  width: min-content;\n",
       "  min-width: 20ex;\n",
       "  max-width: 50ex;\n",
       "  color: var(--sklearn-color-text);\n",
       "  box-shadow: 2pt 2pt 4pt #999;\n",
       "  /* unfitted */\n",
       "  background: var(--sklearn-color-unfitted-level-0);\n",
       "  border: .5pt solid var(--sklearn-color-unfitted-level-3);\n",
       "}\n",
       "\n",
       ".sk-estimator-doc-link.fitted span {\n",
       "  /* fitted */\n",
       "  background: var(--sklearn-color-fitted-level-0);\n",
       "  border: var(--sklearn-color-fitted-level-3);\n",
       "}\n",
       "\n",
       ".sk-estimator-doc-link:hover span {\n",
       "  display: block;\n",
       "}\n",
       "\n",
       "/* \"?\"-specific style due to the `<a>` HTML tag */\n",
       "\n",
       "#sk-container-id-1 a.estimator_doc_link {\n",
       "  float: right;\n",
       "  font-size: 1rem;\n",
       "  line-height: 1em;\n",
       "  font-family: monospace;\n",
       "  background-color: var(--sklearn-color-background);\n",
       "  border-radius: 1rem;\n",
       "  height: 1rem;\n",
       "  width: 1rem;\n",
       "  text-decoration: none;\n",
       "  /* unfitted */\n",
       "  color: var(--sklearn-color-unfitted-level-1);\n",
       "  border: var(--sklearn-color-unfitted-level-1) 1pt solid;\n",
       "}\n",
       "\n",
       "#sk-container-id-1 a.estimator_doc_link.fitted {\n",
       "  /* fitted */\n",
       "  border: var(--sklearn-color-fitted-level-1) 1pt solid;\n",
       "  color: var(--sklearn-color-fitted-level-1);\n",
       "}\n",
       "\n",
       "/* On hover */\n",
       "#sk-container-id-1 a.estimator_doc_link:hover {\n",
       "  /* unfitted */\n",
       "  background-color: var(--sklearn-color-unfitted-level-3);\n",
       "  color: var(--sklearn-color-background);\n",
       "  text-decoration: none;\n",
       "}\n",
       "\n",
       "#sk-container-id-1 a.estimator_doc_link.fitted:hover {\n",
       "  /* fitted */\n",
       "  background-color: var(--sklearn-color-fitted-level-3);\n",
       "}\n",
       "</style><div id=\"sk-container-id-1\" class=\"sk-top-container\"><div class=\"sk-text-repr-fallback\"><pre>LinearRegression()</pre><b>In a Jupyter environment, please rerun this cell to show the HTML representation or trust the notebook. <br />On GitHub, the HTML representation is unable to render, please try loading this page with nbviewer.org.</b></div><div class=\"sk-container\" hidden><div class=\"sk-item\"><div class=\"sk-estimator fitted sk-toggleable\"><input class=\"sk-toggleable__control sk-hidden--visually\" id=\"sk-estimator-id-1\" type=\"checkbox\" checked><label for=\"sk-estimator-id-1\" class=\"sk-toggleable__label fitted sk-toggleable__label-arrow fitted\">&nbsp;&nbsp;LinearRegression<a class=\"sk-estimator-doc-link fitted\" rel=\"noreferrer\" target=\"_blank\" href=\"https://scikit-learn.org/1.4/modules/generated/sklearn.linear_model.LinearRegression.html\">?<span>Documentation for LinearRegression</span></a><span class=\"sk-estimator-doc-link fitted\">i<span>Fitted</span></span></label><div class=\"sk-toggleable__content fitted\"><pre>LinearRegression()</pre></div> </div></div></div></div>"
      ],
      "text/plain": [
       "LinearRegression()"
      ]
     },
     "execution_count": 101,
     "metadata": {},
     "output_type": "execute_result"
    }
   ],
   "source": [
    "## Model\n",
    "# Créer et entraîner le modèle de régression linéaire\n",
    "model = LinearRegression()\n",
    "model.fit(X_train, y_train)"
   ]
  },
  {
   "cell_type": "code",
   "execution_count": null,
   "id": "df03762a",
   "metadata": {},
   "outputs": [],
   "source": [
    "#creation de la variable X_test\n",
    "X_test = test_data.drop(columns=['margin_low'])"
   ]
  },
  {
   "cell_type": "code",
   "execution_count": null,
   "id": "a5b8c4bc",
   "metadata": {},
   "outputs": [],
   "source": [
    "# Prédire les valeurs manquantes\n",
    "y_predicted = model.predict(X_test)"
   ]
  },
  {
   "cell_type": "code",
   "execution_count": null,
   "id": "fbf8ea8e",
   "metadata": {},
   "outputs": [
    {
     "data": {
      "text/plain": [
       "(37,)"
      ]
     },
     "execution_count": 104,
     "metadata": {},
     "output_type": "execute_result"
    }
   ],
   "source": [
    "y_predicted.shape"
   ]
  },
  {
   "cell_type": "code",
   "execution_count": null,
   "id": "41974c62",
   "metadata": {},
   "outputs": [],
   "source": [
    "# Remplacer les valeurs manquantes par les valeurs prédites\n",
    "df.loc[df['margin_low'].isna(), 'margin_low'] = y_predicted"
   ]
  },
  {
   "cell_type": "code",
   "execution_count": null,
   "id": "54123bfd",
   "metadata": {},
   "outputs": [
    {
     "data": {
      "text/plain": [
       "array([4.31852466, 4.39366755, 4.41045663, 4.31901423, 4.6506171 ,\n",
       "       3.80330831, 4.17973608, 4.12744154, 4.13503418, 4.16053851,\n",
       "       4.17742026, 3.76855378, 4.05876385, 4.29804709, 4.16060746,\n",
       "       4.09406453, 4.43984627, 4.47065037, 4.34164322, 4.08041448,\n",
       "       3.61430588, 4.37181147, 4.09362068, 4.24962896, 3.89374829,\n",
       "       3.74633265, 4.23741481, 4.71053287, 4.13778022, 5.05027715,\n",
       "       4.80214523, 5.067584  , 5.04756967, 4.77896717, 5.726993  ,\n",
       "       5.18586214, 5.14004269])"
      ]
     },
     "execution_count": 106,
     "metadata": {},
     "output_type": "execute_result"
    }
   ],
   "source": [
    "y_predicted"
   ]
  },
  {
   "cell_type": "code",
   "execution_count": null,
   "id": "81c1f7ff",
   "metadata": {},
   "outputs": [
    {
     "data": {
      "text/plain": [
       "(37,)"
      ]
     },
     "execution_count": 107,
     "metadata": {},
     "output_type": "execute_result"
    }
   ],
   "source": [
    "y_predicted.shape"
   ]
  },
  {
   "cell_type": "code",
   "execution_count": null,
   "id": "713ee100",
   "metadata": {},
   "outputs": [
    {
     "data": {
      "text/plain": [
       "diagonal        0\n",
       "height_left     0\n",
       "height_right    0\n",
       "margin_low      0\n",
       "margin_up       0\n",
       "length          0\n",
       "dtype: int64"
      ]
     },
     "execution_count": 108,
     "metadata": {},
     "output_type": "execute_result"
    }
   ],
   "source": [
    "df.isnull().sum()"
   ]
  },
  {
   "cell_type": "code",
   "execution_count": null,
   "id": "c889104d",
   "metadata": {},
   "outputs": [],
   "source": [
    "\n"
   ]
  },
  {
   "cell_type": "markdown",
   "id": "e1764bc5",
   "metadata": {},
   "source": [
    "## 2.3.2 Detection des outliers"
   ]
  },
  {
   "cell_type": "code",
   "execution_count": null,
   "id": "ecfac38b",
   "metadata": {},
   "outputs": [],
   "source": []
  },
  {
   "cell_type": "code",
   "execution_count": null,
   "id": "b819b4ba",
   "metadata": {},
   "outputs": [],
   "source": []
  },
  {
   "cell_type": "code",
   "execution_count": null,
   "id": "4ad24542",
   "metadata": {},
   "outputs": [],
   "source": []
  },
  {
   "cell_type": "markdown",
   "id": "8f3b2f93",
   "metadata": {},
   "source": [
    "## 2.3.1.1 Data mining"
   ]
  },
  {
   "cell_type": "markdown",
   "id": "da073f7c",
   "metadata": {},
   "source": [
    "## 2.4 Preparation des données"
   ]
  },
  {
   "cell_type": "markdown",
   "id": "6f3f350f",
   "metadata": {},
   "source": []
  }
 ],
 "metadata": {
  "kernelspec": {
   "display_name": "Python 3 (ipykernel)",
   "language": "python",
   "name": "python3"
  },
  "language_info": {
   "codemirror_mode": {
    "name": "ipython",
    "version": 3
   },
   "file_extension": ".py",
   "mimetype": "text/x-python",
   "name": "python",
   "nbconvert_exporter": "python",
   "pygments_lexer": "ipython3",
   "version": "3.9.13"
  }
 },
 "nbformat": 4,
 "nbformat_minor": 5
}
